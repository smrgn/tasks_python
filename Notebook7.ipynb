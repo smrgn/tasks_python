{
 "cells": [
  {
   "cell_type": "markdown",
   "id": "5a837aa1-b0ae-46d5-94de-5ed229b70c01",
   "metadata": {},
   "source": [
    "# **Рабочая тетрадь № 7**\n",
    "---"
   ]
  },
  {
   "cell_type": "markdown",
   "id": "4b1504b3",
   "metadata": {},
   "source": [
    "### 1.1.1 Пример"
   ]
  },
  {
   "cell_type": "markdown",
   "id": "912d66cd",
   "metadata": {},
   "source": [
    "*Задача:*\n",
    "Рассмотрим программу обучения персептрона на языке Python. Сначала \n",
    "рассмотрим основной класс персептрона, который умеет учиться по \n",
    "тестовым данным:"
   ]
  },
  {
   "cell_type": "markdown",
   "id": "fdab3846",
   "metadata": {},
   "source": [
    "*Решение:*\n",
    "Начнем с описания объектов класса:"
   ]
  },
  {
   "cell_type": "code",
   "execution_count": 1,
   "id": "9d16eb51",
   "metadata": {},
   "outputs": [],
   "source": [
    "# класс, который реализует персептрон и его обучение \n",
    "class Perceptron:\n",
    "    def __init__(self, N):\n",
    "        # создать нулевые веса \n",
    "        self.w = list() \n",
    "        for i in range(N):\n",
    "            self.w.append(0)\n",
    "            # метод для вычисления значения персептрона\n",
    "    def calc(self, x):\n",
    "        res = 0\n",
    "        for i in range(len(self.w)):\n",
    "            res = res + self.w[i] * x[i]\n",
    "        return res\n",
    "    # пороговая функция активации персептрона\n",
    "    def sign(self, x):\n",
    "        if self.calc(x) > 0:\n",
    "            return 1\n",
    "        else:\n",
    "            return -1\n",
    "        # обучение на одном примере \n",
    "    def learn(self, la, x, y):\n",
    "        # обучаем только, когда результат неверный \n",
    "        if y * self.calc(x) <= 0:\n",
    "            for i in range(len(self.w)):\n",
    "                self.w[i] = self.w[i] + la * y * x[i]\n",
    "# обучение по всем данным Т - кортеж примеров\n",
    "    def learning(self, la, T):\n",
    "        # цикл обучения \n",
    "        for n in range(100):\n",
    "            # обучение по всем набору примеров \n",
    "            for t in T:\n",
    "                self.learn(la, t[0], t[1])"
   ]
  },
  {
   "cell_type": "markdown",
   "id": "0e456870",
   "metadata": {},
   "source": [
    "В строке 25 мы осуществляем корректировку весов. Посмотрим, как учится \n",
    "и работает наш персептрон."
   ]
  },
  {
   "cell_type": "code",
   "execution_count": 2,
   "id": "bc113887",
   "metadata": {},
   "outputs": [
    {
     "name": "stdout",
     "output_type": "stream",
     "text": [
      "[0.1, -0.1]\n",
      "-1\n",
      "1\n",
      "1\n",
      "-1\n"
     ]
    }
   ],
   "source": [
    "# создаем класс двумерного персептрона \n",
    "perceptron = Perceptron(2) \n",
    "la = 0.1 # константа обучения \n",
    "# создаем примеры\n",
    "T = list()\n",
    "T.append([[2,1], 1])\n",
    "T.append([[3,2], 1])\n",
    "T.append([[4,1], 1])\n",
    "T.append([[1,2], -1])\n",
    "T.append([[2,3], -1])\n",
    "T.append([[5,7], -1]) \n",
    "perceptron.learning(la, T) # обучение пеpceптрона \n",
    "print(perceptron.w) # печатаем веса \n",
    "# проверим работу на тестовых примерах \n",
    "print(perceptron.sign([1.5, 2])) \n",
    "print(perceptron.sign([3, 1.5])) \n",
    "print(perceptron.sign([5,1])) \n",
    "print(perceptron.sign([5,10]))"
   ]
  },
  {
   "cell_type": "markdown",
   "id": "e929f554",
   "metadata": {},
   "source": [
    "Видим, что что наш персептрон отлично научился распознавать образы, \n",
    "относя к классу 1 те вектора, у которых первая компонента больше второй, \n",
    "и к классу -1 в противном случае. Хотя устройство персептронов довольно \n",
    "простое эти конструкции могут решать и практические задачи. Кроме того, \n",
    "из таких персептронов состоят нейронные сети."
   ]
  },
  {
   "cell_type": "markdown",
   "id": "e54c63ca",
   "metadata": {},
   "source": [
    "### 1.1.2 Пример"
   ]
  },
  {
   "cell_type": "markdown",
   "id": "4772aa23",
   "metadata": {},
   "source": [
    "Решение:\n",
    "Для написания кода нейрона будем использовать библиотеку Pytnon\n",
    "— NumPy:"
   ]
  },
  {
   "cell_type": "code",
   "execution_count": 3,
   "id": "f2c731f5",
   "metadata": {},
   "outputs": [
    {
     "name": "stdout",
     "output_type": "stream",
     "text": [
      "0.9990889488055994\n"
     ]
    }
   ],
   "source": [
    "import numpy as np \n",
    "def sigmoid(x):\n",
    "    # Функция активации: f(x) = 1 / (1 + e^(-х)) \n",
    "    return 1 / (1 + np.exp(-x))\n",
    "class Neuron:\n",
    "    def __init__(self, weights, bias):\n",
    "        self. weights = weights \n",
    "        self.bias = bias\n",
    "    def feedforward(self, inputs):\n",
    "        total = np.dot(self.weights, inputs) + self.bias \n",
    "        return sigmoid(total)\n",
    "\n",
    "weights = np.array([0, 1]) # w1 = 0, w2 = 1 \n",
    "bias = 4 # c = 4 \n",
    "n = Neuron(weights, bias) \n",
    "x = np.array([2, 3]) # x = 2, y = 3 \n",
    "print(n. feedforward(x)) # 0.9990889488055994"
   ]
  },
  {
   "cell_type": "code",
   "execution_count": 4,
   "id": "0ec054b4",
   "metadata": {},
   "outputs": [
    {
     "name": "stdout",
     "output_type": "stream",
     "text": [
      "0.7216325609518421\n"
     ]
    }
   ],
   "source": [
    "import numpy as np \n",
    "class OurNeuralNetwork:\n",
    "    '''\n",
    "    Данные нейросети:\n",
    "        - два входа \n",
    "        - два нейрона в скрытых слоях (h1, h2) \n",
    "        - выход (o1)\n",
    "    Нейроны имеют идентичные веса и пороги:\n",
    "        - w = [0, 1]\n",
    "        - b = 0\n",
    "    '''\n",
    "    def __init__(self):\n",
    "        weights = np.array([0, 1]) \n",
    "        bias = 0 \n",
    "        # Класс Neuron из предыдущего раздела \n",
    "        self.h1 = Neuron(weights, bias) \n",
    "        self.h2 = Neuron(weights, bias) \n",
    "        self.o1 = Neuron(weights, bias)\n",
    "    \n",
    "    def feedforward(self, x):\n",
    "        out_h1 = self.h1.feedforward(x) \n",
    "        out_h2 = self.h2.feedforward(x) \n",
    "        # Входы для o1 - это выходы h1 u h2 \n",
    "        out_o1 = self.o1.feedforward(np.array([out_h1, out_h2])) \n",
    "        return out_o1\n",
    "\n",
    "network = OurNeuralNetwork() \n",
    "x = np.array([2, 3]) \n",
    "print(network.feedforward(x)) # 0.7216325609518421"
   ]
  },
  {
   "cell_type": "markdown",
   "id": "ed9942ad",
   "metadata": {},
   "source": [
    "Обучение нейросети — это подбор весов, которые соответствуют всем\n",
    "входам для решения поставленных задач.\n",
    "\n",
    "Класс нейронной сети:"
   ]
  },
  {
   "cell_type": "code",
   "execution_count": 5,
   "id": "8851f4fa",
   "metadata": {},
   "outputs": [],
   "source": [
    "class NeuralNetwork:\n",
    "    def __init__(self, x, y):\n",
    "        self.input    = x \n",
    "        self.weights1 = np.random.rand(self.input. shape[1],4) \n",
    "        self.weights2 = np.random.rand(4,1) \n",
    "        self.y        = у \n",
    "        self.output   = np.zeros(y.shape)"
   ]
  },
  {
   "attachments": {
    "image-2.png": {
     "image/png": "[encoded data removed]"
    },
    "image-3.png": {
     "image/png": "[encoded data removed]"
    },
    "image.png": {
     "image/png": "[encoded data removed]"
    }
   },
   "cell_type": "markdown",
   "id": "b1bde59b",
   "metadata": {},
   "source": [
    "Каждый этап процесса обучения состоит из:\n",
    "\n",
    "- прямого распространения (прогнозируемый выход);\n",
    "- обратного распространения (обновление весов и смещений).\n",
    "\n",
    "Например:\n",
    "\n",
    "Дана двуслойная нейросеть:\n",
    "\n",
    "![image.png](attachment:image.png)\n",
    "\n",
    "В данном случае на выход ŷ влияют только две переменные — 𝑤 (веса) и 𝑏\n",
    "(смещение). Настройку весов и смещений из данных входа или процесс\n",
    "обучения нейросети можно изобразить так:\n",
    "\n",
    "![image-2.png](attachment:image-2.png)\n",
    "\n",
    "Прямое распространение.\n",
    "\n",
    "Как видно, формула прямого распространения представляет собой\n",
    "несложное вычисление:\n",
    "\n",
    "![image-3.png](attachment:image-3.png)\n",
    "\n",
    "Далее необходимо добавить в код функцию прямого распространения.\n",
    "Предположим, что смещения в этом случае будут равны 0."
   ]
  },
  {
   "cell_type": "code",
   "execution_count": 6,
   "id": "ab0665ef",
   "metadata": {},
   "outputs": [],
   "source": [
    "class NeuralNetwork:\n",
    "    def __ini__(self, x, y):\n",
    "        self. input   = x \n",
    "        self.weights1 = np.random.rand(self.input.shape[1],4) \n",
    "        self.weights2 = np.random.rand(4,1) \n",
    "        self.y        = у \n",
    "        self.output   = np.zeros(self.y.shape)\n",
    "    def feedforward(self):\n",
    "        self.layer1 = sigmoid(np.dot(self.input, self.weights1)) \n",
    "        self.output = sigmoid(np.dot(self.layer1, self.weights2))"
   ]
  },
  {
   "cell_type": "markdown",
   "id": "4f68d357",
   "metadata": {},
   "source": [
    "Чтобы вычислить ошибку прогноза, необходимо использовать функцию\n",
    "потери. В примере уместно воспользоваться формулой суммы квадратов\n",
    "ошибок — средним значением между прогнозируемым и фактическим\n",
    "результатами:\n",
    "\n",
    "*Обратное распространение*\n",
    "\n",
    "Обратное распространение позволяет измерить производные в\n",
    "обратном порядке — от конца к началу, и скорректировать веса и смещения.\n",
    "Для этого необходимо узнать производную функции потери — тангенс угла\n",
    "наклона.\n",
    "\n",
    "Производная функции по отношению к весам и смещениям позволяет\n",
    "узнать градиентный спуск. Производная функции потери не содержит весов\n",
    "и смещений, для ее вычисления необходимо добавить правило цепи:\n",
    "\n",
    "Благодаря этому правилу можно регулировать веса. Добавляем в код\n",
    "Python функцию обратного распространения:"
   ]
  },
  {
   "cell_type": "code",
   "execution_count": 7,
   "id": "0448c31d",
   "metadata": {},
   "outputs": [],
   "source": [
    "class NeuralNetwork:\n",
    "    def __init__(self, x, y):\n",
    "        self.input    = x \n",
    "        self.weights1 = np.random.rand(self.input.shape[1],4) \n",
    "        self.weights2 = np.random.rand(4,1) \n",
    "        self.y        = у \n",
    "        self.output   = np.zeros(self.y.shape)\n",
    "    def feedforward(self):\n",
    "        self.layer1 = sigmoid(np.dot(self.input, self.weights1)) \n",
    "        self.output = sigmoid(np.dot(self.layer1, self.weights2))\n",
    "    def backprop(self):\n",
    "# применение правила цепи для нахождения производной функции потерь по весу2 и весу1 \n",
    "        d_weights2 = np.dot(self.layer1.T, (2*(self.y - self.output) * sigmoid_derivative(self.output))) \n",
    "        d_weights1 = np.dot(self.input.T, (np.dot(2*(self.y - self.output) * sigmoid_derivative(self.output), self.weights2.T) * sigmoid_derivative(self.layer1)))\n",
    "# обновление веса производной (наклона) функции потерь \n",
    "        self.weights1 += d_weights1 \n",
    "        self.weights2 += d_weights2"
   ]
  },
  {
   "cell_type": "markdown",
   "id": "59b6e2d4",
   "metadata": {},
   "source": [
    "Нейронные сети базируются на определенных алгоритмах и\n",
    "математических функциях. Сначала может казаться, что разобраться в них\n",
    "довольно сложно. Но существуют готовые библиотеки машинного обучения\n",
    "для построения и тренировки нейросетей, позволяющие не углубляться в их\n",
    "устройство."
   ]
  },
  {
   "cell_type": "markdown",
   "id": "c025eeb5",
   "metadata": {},
   "source": [
    "### *Задание:*"
   ]
  },
  {
   "cell_type": "markdown",
   "id": "6e0d6354",
   "metadata": {},
   "source": [
    "Реализовать классы нейросетей по аналогии с классом OurNeuralNetwork.\n",
    "\n",
    "Данные нейросети:\n",
    "- три входа (𝑥1, 𝑥2, 𝑥3);\n",
    "- три нейрона в скрытых слоях (ℎ1, ℎ2, ℎ3);\n",
    "- выход (𝑜1).\n",
    "\n",
    "Нейроны имеют идентичные веса и пороги:\n",
    "- 𝑤 = [0.5, 0.5, 0.5]\n",
    "- 𝑏 = 0\n",
    "\n",
    "Данные нейросети:\n",
    "- два входа (𝑥1, 𝑥2);\n",
    "- два нейрона в скрытых слоях (ℎ1, ℎ2);\n",
    "- два выхода (𝑜1, 𝑜2).\n",
    "\n",
    "Нейроны имеют идентичные веса и пороги:\n",
    "- 𝑤 = [1, 0];\n",
    "- 𝑏 = 1."
   ]
  },
  {
   "cell_type": "markdown",
   "id": "c0981264",
   "metadata": {},
   "source": [
    "Реализуйте классы нейронных сетей с использованием других функций\n",
    "активации."
   ]
  },
  {
   "cell_type": "markdown",
   "id": "228953cc",
   "metadata": {},
   "source": [
    "### *Решение:*"
   ]
  },
  {
   "cell_type": "code",
   "execution_count": 8,
   "id": "d48ecfdd",
   "metadata": {},
   "outputs": [
    {
     "name": "stdout",
     "output_type": "stream",
     "text": [
      "Сигмоид первой нейронной сети:  0.8067238139969796\n",
      "Тангенс первой нейронной сети:  -0.21713906537767277\n",
      "ReLU первой нейронной сети:  4.5\n",
      "Сигмоид первой нейронной сети:  (0.8757270529783324, 0.8757270529783324)\n",
      "Тангенс первой нейронной сети:  (1.1555911185916798, 1.1555911185916798)\n",
      "ReLU первой нейронной сети:  (4, 4)\n"
     ]
    }
   ],
   "source": [
    "import numpy as np\n",
    "\n",
    "def sigmoid(x):\n",
    "    return 1 / (1 + np.exp(-x))\n",
    "\n",
    "def tanh(x):\n",
    "    return np.tan(x)\n",
    "\n",
    "def ReLU(x):\n",
    "    return max(0,x)\n",
    "\n",
    "class Neuron:\n",
    "    def __init__(self, weights, bias):\n",
    "        self.weights = weights\n",
    "        self.bias = bias\n",
    "    def feedforwardSigmoid(self, inputs):\n",
    "        total = np.dot(self.weights, inputs) + self.bias\n",
    "        return sigmoid(total)\n",
    "    def feedforwardTanh(self, inputs):\n",
    "        total = np.dot(self.weights, inputs) + self.bias\n",
    "        return tanh(total)\n",
    "    def feedforwardReLU(self, inputs):\n",
    "        total = np.dot(self.weights, inputs) + self.bias\n",
    "        return ReLU(total)\n",
    "\n",
    "class OurNeuralNetwork1:\n",
    "    def __init__(self):\n",
    "        weights = np.array([0.5, 0.5, 0.5])\n",
    "        bias = 0\n",
    "        self.h1 = Neuron(weights, bias)\n",
    "        self.h2 = Neuron(weights, bias)\n",
    "        self.h3 = Neuron(weights, bias)\n",
    "        self.o1 = Neuron(weights, bias)\n",
    "    def feedforward_1_1(self, x):\n",
    "        out_h1 = self.h1.feedforwardSigmoid(x)\n",
    "        out_h2 = self.h2.feedforwardSigmoid(x)\n",
    "        out_h3 = self.h3.feedforwardSigmoid(x)\n",
    "        out_o1 = self.o1.feedforwardSigmoid(np.array([out_h1, out_h2, out_h3]))\n",
    "        return out_o1\n",
    "    def feedforward_1_2(self, x):\n",
    "        out_h1 = self.h1.feedforwardTanh(x)\n",
    "        out_h2 = self.h2.feedforwardTanh(x)\n",
    "        out_h3 = self.h3.feedforwardTanh(x)\n",
    "        out_o1 = self.o1.feedforwardTanh(np.array([out_h1, out_h2, out_h3]))\n",
    "        return out_o1\n",
    "    def feedforward_1_3(self, x):\n",
    "        out_h1 = self.h1.feedforwardReLU(x)\n",
    "        out_h2 = self.h2.feedforwardReLU(x)\n",
    "        out_h3 = self.h3.feedforwardReLU(x)\n",
    "        out_o1 = self.o1.feedforwardReLU(np.array([out_h1, out_h2, out_h3]))\n",
    "        return out_o1\n",
    "    \n",
    "class OurNeuralNetwork2:\n",
    "    def __init__(self):\n",
    "        weights = np.array([1, 0])\n",
    "        bias = 1\n",
    "        self.h1 = Neuron(weights, bias)\n",
    "        self.h2 = Neuron(weights, bias)\n",
    "        self.o1 = Neuron(weights, bias)\n",
    "        self.o2 = Neuron(weights, bias)\n",
    "    def feedforward_2_1(self, x):\n",
    "        out_h1 = self.h1.feedforwardSigmoid(x)\n",
    "        out_h2 = self.h2.feedforwardSigmoid(x)\n",
    "        out_o1 = self.o1.feedforwardSigmoid(np.array([out_h1, out_h2]))\n",
    "        out_o2 = self.o2.feedforwardSigmoid(np.array([out_h1, out_h2]))\n",
    "        return out_o1, out_o2\n",
    "    def feedforward_2_2(self, x):\n",
    "        out_h1 = self.h1.feedforwardTanh(x)\n",
    "        out_h2 = self.h2.feedforwardTanh(x)\n",
    "        out_o1 = self.o1.feedforwardTanh(np.array([out_h1, out_h2]))\n",
    "        out_o2 = self.o2.feedforwardTanh(np.array([out_h1, out_h2]))\n",
    "        return out_o1, out_o2\n",
    "    def feedforward_2_3(self, x):\n",
    "        out_h1 = self.h1.feedforwardReLU(x)\n",
    "        out_h2 = self.h2.feedforwardReLU(x)\n",
    "        out_o1 = self.o1.feedforwardReLU(np.array([out_h1, out_h2]))\n",
    "        out_o2 = self.o2.feedforwardReLU(np.array([out_h1, out_h2]))\n",
    "        return out_o1, out_o2\n",
    "    \n",
    "network1 = OurNeuralNetwork1()\n",
    "x1 = np.array([1, 2, 3])\n",
    "print('Сигмоид первой нейронной сети: ', network1.feedforward_1_1(x1))\n",
    "print('Тангенс первой нейронной сети: ', network1.feedforward_1_2(x1))\n",
    "print('ReLU первой нейронной сети: ', network1.feedforward_1_3(x1))\n",
    "\n",
    "network2 = OurNeuralNetwork2()\n",
    "x2 = np.array([2, 3])\n",
    "print('Сигмоид первой нейронной сети: ', network2.feedforward_2_1(x2))\n",
    "print('Тангенс первой нейронной сети: ', network2.feedforward_2_2(x2))\n",
    "print('ReLU первой нейронной сети: ', network2.feedforward_2_3(x2))"
   ]
  },
  {
   "cell_type": "markdown",
   "id": "a627e6d8",
   "metadata": {},
   "source": [
    "### 1.2. Введение в нейронные сети с помощью Scikit-Learn в Python"
   ]
  },
  {
   "cell_type": "markdown",
   "id": "1a47bc29",
   "metadata": {},
   "source": [
    "Теперь мы знаем, что такое нейронные сети и какие шаги необходимо\n",
    "выполнить, чтобы построить простую нейронную сеть с плотными связями.\n",
    "В этом разделе мы попытаемся построить простую нейронную сеть, которая\n",
    "предсказывает класс, к которому принадлежит данное растение ириса. Мы\n",
    "будем использовать библиотеку Python Scikit-Learn для создания нашей\n",
    "нейронной сети.\n",
    "\n",
    "*Sklearn предоставляет 2 оценщика для задач классификации и\n",
    "регрессии соответственно:*\n",
    "- MLPClassifier;\n",
    "- MLPRegressor\n",
    "\n",
    "Начнем с импорта необходимых библиотек."
   ]
  },
  {
   "cell_type": "code",
   "execution_count": 9,
   "id": "fdcee57d",
   "metadata": {},
   "outputs": [],
   "source": [
    "#Загрузка библиотек \n",
    "import numpy as np \n",
    "import pandas as pd \n",
    "import matplotlib.pyplot as plt\n",
    "\n",
    "import sklearn"
   ]
  },
  {
   "cell_type": "markdown",
   "id": "4d41d723",
   "metadata": {},
   "source": [
    "### MLPClassifier"
   ]
  },
  {
   "cell_type": "markdown",
   "id": "354660f9",
   "metadata": {},
   "source": [
    "Загрузка данных\n",
    "\n",
    "Мы будем загружать два набора данных.\n",
    "\n",
    "Набор данных цифр: мы будем использовать набор данных цифр,\n",
    "который имеет изображения размером 8x8 для цифр 0-9. Ниже мы будем\n",
    "использовать цифровые данные для задач классификации.\n",
    "\n",
    "Набор данных о жилье в Бостоне: мы будем использовать набор\n",
    "данных о жилье в Бостоне, который содержит информацию о различных\n",
    "свойствах дома, таких как среднее количество комнат, уровень преступности\n",
    "на душу населения в городе и т. д. Мы будем использовать его для задач\n",
    "регрессии.\n",
    "\n",
    "Sklearn предоставляет оба этих набора данных. Мы можем загрузить\n",
    "их, вызвав методы load_digits() и load_boston()."
   ]
  },
  {
   "cell_type": "code",
   "execution_count": 10,
   "id": "c30eb7be",
   "metadata": {},
   "outputs": [
    {
     "name": "stdout",
     "output_type": "stream",
     "text": [
      "Dataset Sizes: (1797, 64) (1797,)\n"
     ]
    }
   ],
   "source": [
    "from sklearn.datasets import load_digits, load_boston\n",
    "\n",
    "digits = load_digits() \n",
    "X_digits, Y_digits = digits.data, digits.target \n",
    "print('Dataset Sizes:', X_digits.shape, Y_digits.shape)"
   ]
  },
  {
   "cell_type": "code",
   "execution_count": 11,
   "id": "eef1566b",
   "metadata": {},
   "outputs": [
    {
     "name": "stdout",
     "output_type": "stream",
     "text": [
      "Dataset Sizes: (506, 13) (506,)\n"
     ]
    },
    {
     "name": "stderr",
     "output_type": "stream",
     "text": [
      "C:\\ProgramData\\Anaconda3\\lib\\site-packages\\sklearn\\utils\\deprecation.py:87: FutureWarning: Function load_boston is deprecated; `load_boston` is deprecated in 1.0 and will be removed in 1.2.\n",
      "\n",
      "    The Boston housing prices dataset has an ethical problem. You can refer to\n",
      "    the documentation of this function for further details.\n",
      "\n",
      "    The scikit-learn maintainers therefore strongly discourage the use of this\n",
      "    dataset unless the purpose of the code is to study and educate about\n",
      "    ethical issues in data science and machine learning.\n",
      "\n",
      "    In this special case, you can fetch the dataset from the original\n",
      "    source::\n",
      "\n",
      "        import pandas as pd\n",
      "        import numpy as np\n",
      "\n",
      "        data_url = \"http://lib.stat.cmu.edu/datasets/boston\"\n",
      "        raw_df = pd.read_csv(data_url, sep=\"\\s+\", skiprows=22, header=None)\n",
      "        data = np.hstack([raw_df.values[::2, :], raw_df.values[1::2, :2]])\n",
      "        target = raw_df.values[1::2, 2]\n",
      "\n",
      "    Alternative datasets include the California housing dataset (i.e.\n",
      "    :func:`~sklearn.datasets.fetch_california_housing`) and the Ames housing\n",
      "    dataset. You can load the datasets as follows::\n",
      "\n",
      "        from sklearn.datasets import fetch_california_housing\n",
      "        housing = fetch_california_housing()\n",
      "\n",
      "    for the California housing dataset and::\n",
      "\n",
      "        from sklearn.datasets import fetch_openml\n",
      "        housing = fetch_openml(name=\"house_prices\", as_frame=True)\n",
      "\n",
      "    for the Ames housing dataset.\n",
      "  warnings.warn(msg, category=FutureWarning)\n"
     ]
    }
   ],
   "source": [
    "boston = load_boston() \n",
    "X_boston, Y_boston = boston.data, boston.target \n",
    "print('Dataset Sizes:',X_boston. shape, Y_boston.shape)"
   ]
  },
  {
   "cell_type": "markdown",
   "id": "1376149c",
   "metadata": {},
   "source": [
    "*Классификация*\n",
    "\n",
    "MLPClassifier — это клвсс, доступный как часть модуля neuro_network\n",
    "sklearn для выполнения задач классификации с использованием\n",
    "многослойного персептрона.\n",
    "\n",
    "Как обычно разделим набор данных на две части:\n",
    "- данные обучения, которые будут использоваться для модели обучения;\n",
    "- тестовые данные, по которым будет проверяться точность обученной модели.\n",
    "\n",
    "Функция train_test_split модуля model_selection sklearn поможет нам\n",
    "разделить данные на два набора: 80% для обучения и 20% для тестирования.\n",
    "Мы также используем seed(random_state=123) с train_test_split, чтобы мы\n",
    "всегда получали одно и то же разделение и могли сравнивать и\n",
    "воспроизволить результаты в будущем."
   ]
  },
  {
   "cell_type": "code",
   "execution_count": 12,
   "id": "4a10ce80",
   "metadata": {},
   "outputs": [
    {
     "name": "stdout",
     "output_type": "stream",
     "text": [
      "Train/Test Sizes: (1437, 64) (360, 64) (1437,) (360,)\n"
     ]
    }
   ],
   "source": [
    "from sklearn.model_selection import train_test_split\n",
    "\n",
    "X_train, X_test, Y_train, Y_test = train_test_split(X_digits, Y_digits, train_size=0.80, test_size=0.20, stratify=Y_digits, random_state=123)\n",
    "print('Train/Test Sizes:', X_train.shape, X_test.shape, Y_train.shape, Y_test.shape)"
   ]
  },
  {
   "cell_type": "markdown",
   "id": "cadf4a86",
   "metadata": {},
   "source": [
    "Для начала натренируем модель MLPClassifier с параметрами по умолчанию\n",
    "для тренировочных данных."
   ]
  },
  {
   "cell_type": "code",
   "execution_count": 13,
   "id": "d2bc8cc7",
   "metadata": {},
   "outputs": [
    {
     "data": {
      "text/html": [
       "<style>#sk-container-id-1 {color: black;background-color: white;}#sk-container-id-1 pre{padding: 0;}#sk-container-id-1 div.sk-toggleable {background-color: white;}#sk-container-id-1 label.sk-toggleable__label {cursor: pointer;display: block;width: 100%;margin-bottom: 0;padding: 0.3em;box-sizing: border-box;text-align: center;}#sk-container-id-1 label.sk-toggleable__label-arrow:before {content: \"▸\";float: left;margin-right: 0.25em;color: #696969;}#sk-container-id-1 label.sk-toggleable__label-arrow:hover:before {color: black;}#sk-container-id-1 div.sk-estimator:hover label.sk-toggleable__label-arrow:before {color: black;}#sk-container-id-1 div.sk-toggleable__content {max-height: 0;max-width: 0;overflow: hidden;text-align: left;background-color: #f0f8ff;}#sk-container-id-1 div.sk-toggleable__content pre {margin: 0.2em;color: black;border-radius: 0.25em;background-color: #f0f8ff;}#sk-container-id-1 input.sk-toggleable__control:checked~div.sk-toggleable__content {max-height: 200px;max-width: 100%;overflow: auto;}#sk-container-id-1 input.sk-toggleable__control:checked~label.sk-toggleable__label-arrow:before {content: \"▾\";}#sk-container-id-1 div.sk-estimator input.sk-toggleable__control:checked~label.sk-toggleable__label {background-color: #d4ebff;}#sk-container-id-1 div.sk-label input.sk-toggleable__control:checked~label.sk-toggleable__label {background-color: #d4ebff;}#sk-container-id-1 input.sk-hidden--visually {border: 0;clip: rect(1px 1px 1px 1px);clip: rect(1px, 1px, 1px, 1px);height: 1px;margin: -1px;overflow: hidden;padding: 0;position: absolute;width: 1px;}#sk-container-id-1 div.sk-estimator {font-family: monospace;background-color: #f0f8ff;border: 1px dotted black;border-radius: 0.25em;box-sizing: border-box;margin-bottom: 0.5em;}#sk-container-id-1 div.sk-estimator:hover {background-color: #d4ebff;}#sk-container-id-1 div.sk-parallel-item::after {content: \"\";width: 100%;border-bottom: 1px solid gray;flex-grow: 1;}#sk-container-id-1 div.sk-label:hover label.sk-toggleable__label {background-color: #d4ebff;}#sk-container-id-1 div.sk-serial::before {content: \"\";position: absolute;border-left: 1px solid gray;box-sizing: border-box;top: 0;bottom: 0;left: 50%;z-index: 0;}#sk-container-id-1 div.sk-serial {display: flex;flex-direction: column;align-items: center;background-color: white;padding-right: 0.2em;padding-left: 0.2em;position: relative;}#sk-container-id-1 div.sk-item {position: relative;z-index: 1;}#sk-container-id-1 div.sk-parallel {display: flex;align-items: stretch;justify-content: center;background-color: white;position: relative;}#sk-container-id-1 div.sk-item::before, #sk-container-id-1 div.sk-parallel-item::before {content: \"\";position: absolute;border-left: 1px solid gray;box-sizing: border-box;top: 0;bottom: 0;left: 50%;z-index: -1;}#sk-container-id-1 div.sk-parallel-item {display: flex;flex-direction: column;z-index: 1;position: relative;background-color: white;}#sk-container-id-1 div.sk-parallel-item:first-child::after {align-self: flex-end;width: 50%;}#sk-container-id-1 div.sk-parallel-item:last-child::after {align-self: flex-start;width: 50%;}#sk-container-id-1 div.sk-parallel-item:only-child::after {width: 0;}#sk-container-id-1 div.sk-dashed-wrapped {border: 1px dashed gray;margin: 0 0.4em 0.5em 0.4em;box-sizing: border-box;padding-bottom: 0.4em;background-color: white;}#sk-container-id-1 div.sk-label label {font-family: monospace;font-weight: bold;display: inline-block;line-height: 1.2em;}#sk-container-id-1 div.sk-label-container {text-align: center;}#sk-container-id-1 div.sk-container {/* jupyter's `normalize.less` sets `[hidden] { display: none; }` but bootstrap.min.css set `[hidden] { display: none !important; }` so we also need the `!important` here to be able to override the default hidden behavior on the sphinx rendered scikit-learn.org. See: https://github.com/scikit-learn/scikit-learn/issues/21755 */display: inline-block !important;position: relative;}#sk-container-id-1 div.sk-text-repr-fallback {display: none;}</style><div id=\"sk-container-id-1\" class=\"sk-top-container\"><div class=\"sk-text-repr-fallback\"><pre>MLPClassifier(random_state=123)</pre><b>In a Jupyter environment, please rerun this cell to show the HTML representation or trust the notebook. <br />On GitHub, the HTML representation is unable to render, please try loading this page with nbviewer.org.</b></div><div class=\"sk-container\" hidden><div class=\"sk-item\"><div class=\"sk-estimator sk-toggleable\"><input class=\"sk-toggleable__control sk-hidden--visually\" id=\"sk-estimator-id-1\" type=\"checkbox\" checked><label for=\"sk-estimator-id-1\" class=\"sk-toggleable__label sk-toggleable__label-arrow\">MLPClassifier</label><div class=\"sk-toggleable__content\"><pre>MLPClassifier(random_state=123)</pre></div></div></div></div></div>"
      ],
      "text/plain": [
       "MLPClassifier(random_state=123)"
      ]
     },
     "execution_count": 13,
     "metadata": {},
     "output_type": "execute_result"
    }
   ],
   "source": [
    "from sklearn.neural_network import MLPClassifier\n",
    "\n",
    "mlp_classifier = MLPClassifier(random_state=123) \n",
    "mlp_classifier.fit(X_train, Y_train)"
   ]
  },
  {
   "cell_type": "code",
   "execution_count": 14,
   "id": "7176b3d5",
   "metadata": {},
   "outputs": [
    {
     "name": "stdout",
     "output_type": "stream",
     "text": [
      "[5 9 9 6 1 6 6 9 8 7 4 2 1 4 3]\n",
      "[5 9 9 6 1 6 6 9 8 7 4 2 1 4 3]\n",
      "Test Accuracy : 0.983\n",
      "Training Accuracy : 1.000\n"
     ]
    }
   ],
   "source": [
    "Y_preds = mlp_classifier.predict(X_test)\n",
    "\n",
    "print(Y_preds[:15]) \n",
    "print(Y_test[:15]) \n",
    "## Метод Score для оценки точности моделей классификации. \n",
    "print('Test Accuracy : %.3f'%mlp_classifier.score(X_test, Y_test))\n",
    "print('Training Accuracy : %.3f'%mlp_classifier.score(X_train, Y_train))"
   ]
  },
  {
   "cell_type": "markdown",
   "id": "f92fb69a",
   "metadata": {},
   "source": [
    "Cоздадим метод plot_confusion_matrix(), который принимает исходные и\n",
    "предсказанные метки данных по модели. Затем он строит матрицу путаницы,\n",
    "используя matplotlib."
   ]
  },
  {
   "cell_type": "code",
   "execution_count": 15,
   "id": "c04eab98",
   "metadata": {},
   "outputs": [
    {
     "name": "stdout",
     "output_type": "stream",
     "text": [
      "[[36  0  0  0  0  0  0  0  0  0]\n",
      " [ 0 36  0  0  0  0  0  0  0  0]\n",
      " [ 0  1 33  0  0  0  0  1  0  0]\n",
      " [ 0  0  0 37  0  0  0  0  0  0]\n",
      " [ 0  0  0  0 36  0  0  0  0  0]\n",
      " [ 0  0  0  0  1 36  0  0  0  0]\n",
      " [ 0  0  0  0  0  0 36  0  0  0]\n",
      " [ 0  0  0  0  0  0  0 35  0  1]\n",
      " [ 0  2  0  0  0  0  0  0 33  0]\n",
      " [ 0  0  0  0  0  0  0  0  0 36]]\n"
     ]
    },
    {
     "data": {
      "image/png": "[encoded data removed]",
      "text/plain": [
       "<Figure size 432x432 with 2 Axes>"
      ]
     },
     "metadata": {
      "needs_background": "light"
     },
     "output_type": "display_data"
    }
   ],
   "source": [
    "from sklearn.metrics import confusion_matrix\n",
    "\n",
    "def plot_confusion_matrix(Y_test, Y_preds):\n",
    "    conf_mat = confusion_matrix(Y_test, Y_preds) \n",
    "    print(conf_mat) \n",
    "    fig = plt.figure(figsize=(6,6)) \n",
    "    plt.matshow(conf_mat, cmap=plt.cm.Blues, fignum=1) \n",
    "    plt.yticks(range(10), range(10)) \n",
    "    plt.xticks(range(10), range(10)) \n",
    "    plt.colorbar(); \n",
    "    for i in range(10):\n",
    "        for j in range(10):\n",
    "            plt.text(i-0.2,j+0.1, str(conf_mat[j, i]), color='tab:red')\n",
    "\n",
    "plot_confusion_matrix(Y_test, mlp_classifier.predict(X_test))"
   ]
  },
  {
   "cell_type": "markdown",
   "id": "900c1d94",
   "metadata": {},
   "source": [
    "Ниже приведен список важных атрибутов, доступных с MLPClassifier,\n",
    "которые могут предоставить значимую информацию после обучения\n",
    "модели.\n",
    "\n",
    "- loss_ — возвращает убыток после завершения процесса обучения.\n",
    "- coefs_ — возвращает массив длины n_layers-1, где каждый элемент\n",
    "представляет веса, связанные с уровнем i.\n",
    "- intercepts_ — возвращает массив длины n_layers-1, где каждый\n",
    "элемент представляет собой перехват, связанный с персептронами\n",
    "слоя i.\n",
    "- n_iter_ — количество итераций, для которых выполнялась оценка.\n",
    "- out_activation_ — возвращает имя функции активации выходного\n",
    "слоя."
   ]
  },
  {
   "cell_type": "code",
   "execution_count": 16,
   "id": "7b54cf7b",
   "metadata": {},
   "outputs": [
    {
     "name": "stdout",
     "output_type": "stream",
     "text": [
      "Loss :  0.0034728684994180608\n",
      "Number of Coefs :  2\n",
      "Number of Intercepts :  2\n",
      "Number of Iterations for Which Estimator Ran :  125\n",
      "Name of Output Layer Activation Function :  softmax\n"
     ]
    }
   ],
   "source": [
    "print(\"Loss : \", mlp_classifier.loss_) \n",
    "print(\"Number of Coefs : \", len(mlp_classifier.coefs_)) \n",
    "print(\"Number of Intercepts : \", len(mlp_classifier.intercepts_)) \n",
    "print(\"Number of Iterations for Which Estimator Ran : \", mlp_classifier.n_iter_) \n",
    "print(\"Name of Output Layer Activation Function : \",mlp_classifier.out_activation_)"
   ]
  },
  {
   "cell_type": "markdown",
   "id": "91d63088",
   "metadata": {},
   "source": [
    "### MLPRegressor"
   ]
  },
  {
   "cell_type": "markdown",
   "id": "7b200df6",
   "metadata": {},
   "source": [
    "MLPRegressor — это класс, доступный как часть библиотеки\n",
    "neuro_network sklearn для выполнения задач регрессии с использованием\n",
    "многослойного персептрона. Также разделим набор данных на две части:   \n",
    "- данные обучения (80%), которые будут использоваться для\n",
    "модели обучения;\n",
    "- тестовые данные (20%), по которым будет проверяться точность\n",
    "обученной модели."
   ]
  },
  {
   "cell_type": "code",
   "execution_count": 17,
   "id": "5fad73d0",
   "metadata": {},
   "outputs": [
    {
     "name": "stdout",
     "output_type": "stream",
     "text": [
      "Train/Test Sizes :  (404, 13) (102, 13) (404,) (102,)\n"
     ]
    }
   ],
   "source": [
    "X_train, X_test, Y_train, Y_test = train_test_split(X_boston, Y_boston, train_size=0.80, test_size=0.20, random_state=123) \n",
    "print('Train/Test Sizes : ', X_train.shape, X_test. shape, Y_train.shape, Y_test.shape)"
   ]
  },
  {
   "cell_type": "code",
   "execution_count": 18,
   "id": "fff310a3",
   "metadata": {},
   "outputs": [
    {
     "data": {
      "text/html": [
       "<style>#sk-container-id-2 {color: black;background-color: white;}#sk-container-id-2 pre{padding: 0;}#sk-container-id-2 div.sk-toggleable {background-color: white;}#sk-container-id-2 label.sk-toggleable__label {cursor: pointer;display: block;width: 100%;margin-bottom: 0;padding: 0.3em;box-sizing: border-box;text-align: center;}#sk-container-id-2 label.sk-toggleable__label-arrow:before {content: \"▸\";float: left;margin-right: 0.25em;color: #696969;}#sk-container-id-2 label.sk-toggleable__label-arrow:hover:before {color: black;}#sk-container-id-2 div.sk-estimator:hover label.sk-toggleable__label-arrow:before {color: black;}#sk-container-id-2 div.sk-toggleable__content {max-height: 0;max-width: 0;overflow: hidden;text-align: left;background-color: #f0f8ff;}#sk-container-id-2 div.sk-toggleable__content pre {margin: 0.2em;color: black;border-radius: 0.25em;background-color: #f0f8ff;}#sk-container-id-2 input.sk-toggleable__control:checked~div.sk-toggleable__content {max-height: 200px;max-width: 100%;overflow: auto;}#sk-container-id-2 input.sk-toggleable__control:checked~label.sk-toggleable__label-arrow:before {content: \"▾\";}#sk-container-id-2 div.sk-estimator input.sk-toggleable__control:checked~label.sk-toggleable__label {background-color: #d4ebff;}#sk-container-id-2 div.sk-label input.sk-toggleable__control:checked~label.sk-toggleable__label {background-color: #d4ebff;}#sk-container-id-2 input.sk-hidden--visually {border: 0;clip: rect(1px 1px 1px 1px);clip: rect(1px, 1px, 1px, 1px);height: 1px;margin: -1px;overflow: hidden;padding: 0;position: absolute;width: 1px;}#sk-container-id-2 div.sk-estimator {font-family: monospace;background-color: #f0f8ff;border: 1px dotted black;border-radius: 0.25em;box-sizing: border-box;margin-bottom: 0.5em;}#sk-container-id-2 div.sk-estimator:hover {background-color: #d4ebff;}#sk-container-id-2 div.sk-parallel-item::after {content: \"\";width: 100%;border-bottom: 1px solid gray;flex-grow: 1;}#sk-container-id-2 div.sk-label:hover label.sk-toggleable__label {background-color: #d4ebff;}#sk-container-id-2 div.sk-serial::before {content: \"\";position: absolute;border-left: 1px solid gray;box-sizing: border-box;top: 0;bottom: 0;left: 50%;z-index: 0;}#sk-container-id-2 div.sk-serial {display: flex;flex-direction: column;align-items: center;background-color: white;padding-right: 0.2em;padding-left: 0.2em;position: relative;}#sk-container-id-2 div.sk-item {position: relative;z-index: 1;}#sk-container-id-2 div.sk-parallel {display: flex;align-items: stretch;justify-content: center;background-color: white;position: relative;}#sk-container-id-2 div.sk-item::before, #sk-container-id-2 div.sk-parallel-item::before {content: \"\";position: absolute;border-left: 1px solid gray;box-sizing: border-box;top: 0;bottom: 0;left: 50%;z-index: -1;}#sk-container-id-2 div.sk-parallel-item {display: flex;flex-direction: column;z-index: 1;position: relative;background-color: white;}#sk-container-id-2 div.sk-parallel-item:first-child::after {align-self: flex-end;width: 50%;}#sk-container-id-2 div.sk-parallel-item:last-child::after {align-self: flex-start;width: 50%;}#sk-container-id-2 div.sk-parallel-item:only-child::after {width: 0;}#sk-container-id-2 div.sk-dashed-wrapped {border: 1px dashed gray;margin: 0 0.4em 0.5em 0.4em;box-sizing: border-box;padding-bottom: 0.4em;background-color: white;}#sk-container-id-2 div.sk-label label {font-family: monospace;font-weight: bold;display: inline-block;line-height: 1.2em;}#sk-container-id-2 div.sk-label-container {text-align: center;}#sk-container-id-2 div.sk-container {/* jupyter's `normalize.less` sets `[hidden] { display: none; }` but bootstrap.min.css set `[hidden] { display: none !important; }` so we also need the `!important` here to be able to override the default hidden behavior on the sphinx rendered scikit-learn.org. See: https://github.com/scikit-learn/scikit-learn/issues/21755 */display: inline-block !important;position: relative;}#sk-container-id-2 div.sk-text-repr-fallback {display: none;}</style><div id=\"sk-container-id-2\" class=\"sk-top-container\"><div class=\"sk-text-repr-fallback\"><pre>MLPRegressor(random_state=123)</pre><b>In a Jupyter environment, please rerun this cell to show the HTML representation or trust the notebook. <br />On GitHub, the HTML representation is unable to render, please try loading this page with nbviewer.org.</b></div><div class=\"sk-container\" hidden><div class=\"sk-item\"><div class=\"sk-estimator sk-toggleable\"><input class=\"sk-toggleable__control sk-hidden--visually\" id=\"sk-estimator-id-2\" type=\"checkbox\" checked><label for=\"sk-estimator-id-2\" class=\"sk-toggleable__label sk-toggleable__label-arrow\">MLPRegressor</label><div class=\"sk-toggleable__content\"><pre>MLPRegressor(random_state=123)</pre></div></div></div></div></div>"
      ],
      "text/plain": [
       "MLPRegressor(random_state=123)"
      ]
     },
     "execution_count": 18,
     "metadata": {},
     "output_type": "execute_result"
    }
   ],
   "source": [
    "from sklearn.neural_network import MLPRegressor\n",
    "\n",
    "mlp_regressor = MLPRegressor(random_state=123) \n",
    "mlp_regressor.fit(X_train, Y_train)"
   ]
  },
  {
   "cell_type": "code",
   "execution_count": 19,
   "id": "a90b7704",
   "metadata": {},
   "outputs": [
    {
     "name": "stdout",
     "output_type": "stream",
     "text": [
      "[ 7.32543601 24.33417853 32.46700507 15.19086054 25.6749167  25.07797685\n",
      " 27.20985668  2.62269853 15.25691994 28.02637784]\n",
      "[15.  26.6 45.4 20.8 34.9 21.9 28.7  7.2 20.  32.2]\n",
      "Test R*2 Score : 0.462\n",
      "Training R*2 Score : 0.510\n"
     ]
    }
   ],
   "source": [
    "Y_preds = mlp_regressor.predict(X_test)\n",
    "\n",
    "print(Y_preds[:10]) \n",
    "print(Y_test[:10]) ## Метод Score оценивает точность моделей классификации. \n",
    "print('Test R*2 Score : %.3f'%mlp_regressor.score(X_test, Y_test)) \n",
    "print('Training R*2 Score : %.3f'%mlp_regressor.score(X_train, Y_train))"
   ]
  },
  {
   "cell_type": "markdown",
   "id": "5332c843",
   "metadata": {},
   "source": [
    "MLPRegressor имеет все атрибуты такие же, как и у MLPClassifier:"
   ]
  },
  {
   "cell_type": "code",
   "execution_count": 20,
   "id": "e609d888",
   "metadata": {},
   "outputs": [
    {
     "name": "stdout",
     "output_type": "stream",
     "text": [
      "Loss : 28.538174061119626\n"
     ]
    }
   ],
   "source": [
    "print(\"Loss :\", mlp_regressor.loss_)"
   ]
  },
  {
   "cell_type": "code",
   "execution_count": 21,
   "id": "b56a32b3",
   "metadata": {},
   "outputs": [
    {
     "name": "stdout",
     "output_type": "stream",
     "text": [
      "Number of Coefs :  2\n"
     ]
    },
    {
     "data": {
      "text/plain": [
       "[(13, 100), (100, 1)]"
      ]
     },
     "execution_count": 21,
     "metadata": {},
     "output_type": "execute_result"
    }
   ],
   "source": [
    "print(\"Number of Coefs : \", len(mlp_regressor.coefs_)) \n",
    "[weights.shape for weights in mlp_regressor.coefs_]"
   ]
  },
  {
   "cell_type": "code",
   "execution_count": 22,
   "id": "f256db68",
   "metadata": {},
   "outputs": [
    {
     "name": "stdout",
     "output_type": "stream",
     "text": [
      "Number of Iterations for Which Estimator Ran : 130\n"
     ]
    }
   ],
   "source": [
    "print(\"Number of Iterations for Which Estimator Ran :\", mlp_regressor.n_iter_)"
   ]
  },
  {
   "cell_type": "code",
   "execution_count": 23,
   "id": "2f2d87c9",
   "metadata": {},
   "outputs": [
    {
     "name": "stdout",
     "output_type": "stream",
     "text": [
      "Name of Output Layer Activation Function : identity\n"
     ]
    }
   ],
   "source": [
    "print(\"Name of Output Layer Activation Function :\",mlp_regressor.out_activation_)"
   ]
  },
  {
   "cell_type": "markdown",
   "id": "3cbbc192",
   "metadata": {},
   "source": [
    "### 1.2.1 Задание"
   ]
  },
  {
   "cell_type": "markdown",
   "id": "de07d2db",
   "metadata": {},
   "source": [
    "### *Задача:*\n",
    "Используйте классы MLPClassified и MLPRegressor для классификации и\n",
    "регрессии произвольных данных из интернета. Проведите анализ\n",
    "атрибуты, полученных моделей.\n",
    "\n",
    "Для классификации можете взять набор данных Ирисов:\n",
    "\n",
    "https://gist.githubusercontent.com/netj/8836201/raw/6f9306ad21398ea43cba4f7d537619d0e07d5ae3/iris.csv\n",
    "\n",
    "а для регрессии датасет зависимости заработной платы от опыта работы:\n",
    "\n",
    "https://raw.githubusercontent.com/AnnaShestova/salary-years-simple-linear-regression/master/Salary_Data.csv"
   ]
  },
  {
   "cell_type": "markdown",
   "id": "0a261e39",
   "metadata": {},
   "source": [
    "### *Решение*"
   ]
  },
  {
   "cell_type": "code",
   "execution_count": 24,
   "id": "1129e55e",
   "metadata": {},
   "outputs": [
    {
     "name": "stdout",
     "output_type": "stream",
     "text": [
      "\"iris\" Dataset Sizes: (150, 4) (150,)\n",
      "Train/Test Sizes: (120, 4) (30, 4) (120,) (30,)\n",
      "[1 0 2 2 0 0 2 2 2 0 0 1 2 1 2]\n",
      "[1 0 2 2 0 0 2 1 2 0 0 1 2 1 2]\n",
      "Test Accuracy : 0.933\n",
      "Training Accuracy : 0.992\n",
      "[[10  0  0]\n",
      " [ 0  8  2]\n",
      " [ 0  0 10]]\n"
     ]
    },
    {
     "data": {
      "image/png": "[encoded data removed]",
      "text/plain": [
       "<Figure size 216x216 with 2 Axes>"
      ]
     },
     "metadata": {
      "needs_background": "light"
     },
     "output_type": "display_data"
    }
   ],
   "source": [
    "import numpy as np \n",
    "import pandas as pd \n",
    "import matplotlib.pyplot as plt\n",
    "import sklearn\n",
    "from sklearn.datasets import load_iris\n",
    "from sklearn.model_selection import train_test_split\n",
    "from sklearn.neural_network import MLPClassifier\n",
    "from sklearn.metrics import confusion_matrix\n",
    "from sklearn.neural_network import MLPRegressor\n",
    "\n",
    "iris = load_iris() \n",
    "X_iris, Y_iris = iris.data, iris.target \n",
    "print('\"iris\" Dataset Sizes:', X_iris.shape, Y_iris.shape)\n",
    "\n",
    "X_train, X_test, Y_train, Y_test = train_test_split(X_iris, Y_iris, train_size=0.80, test_size=0.20, stratify=Y_iris, \n",
    "                                                    random_state=123)\n",
    "print('Train/Test Sizes:', X_train.shape, X_test.shape, Y_train.shape, Y_test.shape)\n",
    "\n",
    "mlp_classifier = MLPClassifier(random_state=123, max_iter=1000)\n",
    "mlp_classifier.fit(X_train, Y_train)\n",
    "\n",
    "Y_preds = mlp_classifier.predict(X_test)\n",
    "\n",
    "print(Y_preds[:15]) \n",
    "print(Y_test[:15]) \n",
    "print('Test Accuracy : %.3f'%mlp_classifier.score(X_test, Y_test))\n",
    "print('Training Accuracy : %.3f'%mlp_classifier.score(X_train, Y_train))\n",
    "\n",
    "def plot_confusion_matrix(Y_test, Y_preds):\n",
    "    conf_mat = confusion_matrix(Y_test, Y_preds) \n",
    "    print(conf_mat) \n",
    "    fig = plt.figure(figsize=(3,3)) \n",
    "    plt.matshow(conf_mat, cmap=plt.cm.Blues, fignum=1) \n",
    "    plt.yticks(range(3), range(3)) \n",
    "    plt.xticks(range(3), range(3)) \n",
    "    plt.colorbar(); \n",
    "    for i in range(3):\n",
    "        for j in range(3):\n",
    "            plt.text(i-0.2,j+0.1, str(conf_mat[j, i]), color='tab:red')\n",
    "\n",
    "plot_confusion_matrix(Y_test, mlp_classifier.predict(X_test))"
   ]
  },
  {
   "cell_type": "code",
   "execution_count": 25,
   "id": "0f116834",
   "metadata": {},
   "outputs": [
    {
     "name": "stdout",
     "output_type": "stream",
     "text": [
      "Loss :  0.06237838693566961\n",
      "Number of Coefs :  2\n",
      "Number of Intercepts :  2\n",
      "Number of Iterations for Which Estimator Ran :  641\n",
      "Name of Output Layer Activation Function :  softmax\n"
     ]
    }
   ],
   "source": [
    "print(\"Loss : \", mlp_classifier.loss_) \n",
    "print(\"Number of Coefs : \", len(mlp_classifier.coefs_)) \n",
    "print(\"Number of Intercepts : \", len(mlp_classifier.intercepts_)) \n",
    "print(\"Number of Iterations for Which Estimator Ran : \", mlp_classifier.n_iter_) \n",
    "print(\"Name of Output Layer Activation Function : \",mlp_classifier.out_activation_)"
   ]
  },
  {
   "cell_type": "code",
   "execution_count": 26,
   "id": "a863c432",
   "metadata": {},
   "outputs": [
    {
     "name": "stdout",
     "output_type": "stream",
     "text": [
      "\"salary\" Dataset Sizes: (30, 1) (30,)\n",
      "Train/Test Sizes :  (24, 1) (6, 1) (24,) (6,)\n",
      "[ 55265.2045971  126554.5591937   52335.80522199 116782.59147446\n",
      "  55265.2045971  117759.05793283]\n",
      "[ 54445. 121872.  56642. 116969.  64445. 112635.]\n",
      "Test R*2 Score : 0.971\n",
      "Training R*2 Score : 0.948\n"
     ]
    }
   ],
   "source": [
    "url=r'https://raw.githubusercontent.com/AnnaShestova/salary-years-simple-linear-regression/master/Salary_Data.csv'\n",
    "salary = pd.read_csv(url)\n",
    "\n",
    "X_salary = salary.iloc[:, :-1].values \n",
    "Y_salary = salary.iloc[:, 1].values \n",
    "print('\"salary\" Dataset Sizes:',X_salary.shape, Y_salary.shape)\n",
    "\n",
    "X_train, X_test, Y_train, Y_test = train_test_split(X_salary, Y_salary, train_size=0.80, test_size=0.20, random_state=123) \n",
    "print('Train/Test Sizes : ', X_train.shape, X_test. shape, Y_train.shape, Y_test.shape)\n",
    "\n",
    "mlp_regressor = MLPRegressor(random_state=123, max_iter=50000) \n",
    "mlp_regressor.fit(X_train, Y_train)\n",
    "\n",
    "Y_preds = mlp_regressor.predict(X_test)\n",
    "\n",
    "print(Y_preds[:10]) \n",
    "print(Y_test[:10]) \n",
    "print('Test R*2 Score : %.3f'%mlp_regressor.score(X_test, Y_test)) \n",
    "print('Training R*2 Score : %.3f'%mlp_regressor.score(X_train, Y_train))"
   ]
  },
  {
   "cell_type": "code",
   "execution_count": 27,
   "id": "48314b7e",
   "metadata": {},
   "outputs": [
    {
     "name": "stdout",
     "output_type": "stream",
     "text": [
      "Loss : 16873681.689960096\n",
      "Number of Coefs :  2\n",
      "Number of Iterations for Which Estimator Ran : 30344\n",
      "Name of Output Layer Activation Function : identity\n"
     ]
    }
   ],
   "source": [
    "print(\"Loss :\", mlp_regressor.loss_)\n",
    "print(\"Number of Coefs : \", len(mlp_regressor.coefs_)) \n",
    "print(\"Number of Iterations for Which Estimator Ran :\", mlp_regressor.n_iter_)\n",
    "print(\"Name of Output Layer Activation Function :\",mlp_regressor.out_activation_)"
   ]
  }
 ],
 "metadata": {
  "kernelspec": {
   "display_name": "Python 3 (ipykernel)",
   "language": "python",
   "name": "python3"
  },
  "language_info": {
   "codemirror_mode": {
    "name": "ipython",
    "version": 3
   },
   "file_extension": ".py",
   "mimetype": "text/x-python",
   "name": "python",
   "nbconvert_exporter": "python",
   "pygments_lexer": "ipython3",
   "version": "3.9.13"
  }
 },
 "nbformat": 4,
 "nbformat_minor": 5
}
