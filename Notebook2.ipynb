{
 "cells": [
  {
   "cell_type": "markdown",
   "id": "d2ac3d08",
   "metadata": {},
   "source": [
    "### Дисциплина ИИ: Рабочая тетрадь 2"
   ]
  },
  {
   "cell_type": "code",
   "execution_count": 1,
   "id": "2592ccee",
   "metadata": {},
   "outputs": [],
   "source": [
    "import pandas as pd\n",
    "import numpy as np"
   ]
  },
  {
   "cell_type": "markdown",
   "id": "b6f91139",
   "metadata": {},
   "source": [
    "1.2.1 Пример: Создать массив 5x2. Создать массив 5x2. Вывести все значения массива,\n",
    "значение элемента с индексом (3,1) и второй столбец. Индексация\n",
    "начинается с нуля."
   ]
  },
  {
   "cell_type": "code",
   "execution_count": 2,
   "id": "8ff16aa9",
   "metadata": {},
   "outputs": [
    {
     "name": "stdout",
     "output_type": "stream",
     "text": [
      "[[ 1  2]\n",
      " [ 3  4]\n",
      " [ 5  6]\n",
      " [ 7  8]\n",
      " [ 9 10]]\n",
      "8\n",
      "[3 4]\n"
     ]
    }
   ],
   "source": [
    "x = np.array([[1,2], [3,4], [5,6], [7,8], [9, 10]])\n",
    "print(x)\n",
    "print(x[3, 1])\n",
    "print(x[1])"
   ]
  },
  {
   "cell_type": "markdown",
   "id": "488bf51d",
   "metadata": {},
   "source": [
    "1.2.2 Пример:\n",
    "\n",
    "Выполнить следующее:\n",
    "1. Создать вектор (одномерный массив) размера 10, заполненный\n",
    "нулями.\n",
    "2. Создать вектор размера 10, заполненный единицами.\n",
    "3. Создать вектор размера 10, заполненный заданным числом.\n",
    "4. Создать вектор со значениями от 10 до 19."
   ]
  },
  {
   "cell_type": "code",
   "execution_count": 3,
   "id": "cfefb28c",
   "metadata": {},
   "outputs": [
    {
     "name": "stdout",
     "output_type": "stream",
     "text": [
      "[0. 0. 0. 0. 0. 0. 0. 0. 0. 0.] \n",
      " [1. 1. 1. 1. 1. 1. 1. 1. 1. 1.] \n",
      " [5 5 5 5 5 5 5 5 5 5] \n",
      " [10 11 12 13 14 15 16 17 18 19]\n"
     ]
    }
   ],
   "source": [
    "#import numpy as np\n",
    "a = np.zeros(10)\n",
    "b = np.ones(10)\n",
    "c = np.full(10, 5)\n",
    "d = np.arange(10, 20)\n",
    "print(a, '\\n', b, '\\n', c, '\\n', d)"
   ]
  },
  {
   "cell_type": "markdown",
   "id": "ece1a0c9",
   "metadata": {},
   "source": [
    "1.2.3 Пример: Создать массив 10x10 со случайными значениями, найти минимум,\n",
    "максимум и среднее значение."
   ]
  },
  {
   "cell_type": "code",
   "execution_count": 4,
   "id": "ae774721",
   "metadata": {},
   "outputs": [
    {
     "name": "stdout",
     "output_type": "stream",
     "text": [
      "0.0047375983692380386 0.9962727340666557 0.5511430464766378\n"
     ]
    }
   ],
   "source": [
    "Z = np.random.random((10, 10))\n",
    "Zmin, Zmax, Zmean = Z.min(), Z.max(), Z.mean()\n",
    "print(Zmin, Zmax, Zmean)"
   ]
  },
  {
   "cell_type": "markdown",
   "id": "082e75ba",
   "metadata": {},
   "source": [
    "1.2.4 Пример: Задать матрицу размерности 5 на 5 и поменять 2 строки в матрице местами"
   ]
  },
  {
   "cell_type": "code",
   "execution_count": 5,
   "id": "f721b7dc",
   "metadata": {},
   "outputs": [
    {
     "name": "stdout",
     "output_type": "stream",
     "text": [
      "[[ 5  6  7  8  9]\n",
      " [ 0  1  2  3  4]\n",
      " [10 11 12 13 14]\n",
      " [15 16 17 18 19]\n",
      " [20 21 22 23 24]]\n"
     ]
    }
   ],
   "source": [
    "A = np.arange(25).reshape(5,5)\n",
    "A[[0,1]] = A[[1,0]]\n",
    "print(A)"
   ]
  },
  {
   "cell_type": "markdown",
   "id": "a7e49cc2",
   "metadata": {},
   "source": [
    "1.2.5 Пример: \n",
    "\n",
    "Выяснить результат следующих выражений:"
   ]
  },
  {
   "cell_type": "code",
   "execution_count": 6,
   "id": "14358198",
   "metadata": {},
   "outputs": [
    {
     "name": "stdout",
     "output_type": "stream",
     "text": [
      "nan\n",
      "False\n",
      "False\n",
      "nan\n",
      "False\n"
     ]
    }
   ],
   "source": [
    "print(0 * np.nan)\n",
    "print(np.nan == np.nan)\n",
    "print(np.inf > np.nan)\n",
    "print(np.nan - np.nan)\n",
    "print(0.3 == 3 * 0.1)"
   ]
  },
  {
   "cell_type": "markdown",
   "id": "75c7bc43",
   "metadata": {},
   "source": [
    "1.2.6 Пример: Отсортировать массив"
   ]
  },
  {
   "cell_type": "code",
   "execution_count": 7,
   "id": "336732f6",
   "metadata": {},
   "outputs": [
    {
     "name": "stdout",
     "output_type": "stream",
     "text": [
      "[1 2 3 4 5 6 7 8]\n"
     ]
    }
   ],
   "source": [
    "arr = np.array([2, 1, 5, 3, 7, 4, 6, 8])\n",
    "print(np.sort(arr))"
   ]
  },
  {
   "cell_type": "markdown",
   "id": "3795c8b6",
   "metadata": {},
   "source": [
    "1.3.1 Задание: Создать 8x8 матрицу и заполнить её в шахматном порядке нулями и\n",
    "единицами"
   ]
  },
  {
   "cell_type": "code",
   "execution_count": 8,
   "id": "46bd2a27",
   "metadata": {},
   "outputs": [
    {
     "name": "stdout",
     "output_type": "stream",
     "text": [
      "[[1. 0. 1. 0. 1. 0. 1. 0.]\n",
      " [0. 1. 0. 1. 0. 1. 0. 1.]\n",
      " [1. 0. 1. 0. 1. 0. 1. 0.]\n",
      " [0. 1. 0. 1. 0. 1. 0. 1.]\n",
      " [1. 0. 1. 0. 1. 0. 1. 0.]\n",
      " [0. 1. 0. 1. 0. 1. 0. 1.]\n",
      " [1. 0. 1. 0. 1. 0. 1. 0.]\n",
      " [0. 1. 0. 1. 0. 1. 0. 1.]]\n"
     ]
    }
   ],
   "source": [
    "x = np.zeros((8,8))\n",
    "x[::2, ::2] = 1\n",
    "x[1::2, 1::2] = 1\n",
    "print(x)"
   ]
  },
  {
   "cell_type": "markdown",
   "id": "0e7d8d92",
   "metadata": {},
   "source": [
    "1.3.2 Задание: Создать 5x5 матрицу со значениями в строках от 0 до 4. Для создания\n",
    "необходимо использовать функцию arange."
   ]
  },
  {
   "cell_type": "code",
   "execution_count": 9,
   "id": "d8bf9856",
   "metadata": {},
   "outputs": [
    {
     "name": "stdout",
     "output_type": "stream",
     "text": [
      "[[0. 1. 2. 3. 4.]\n",
      " [0. 1. 2. 3. 4.]\n",
      " [0. 1. 2. 3. 4.]\n",
      " [0. 1. 2. 3. 4.]\n",
      " [0. 1. 2. 3. 4.]]\n"
     ]
    }
   ],
   "source": [
    "x = np.zeros((5, 5))\n",
    "x += np.arange(5)\n",
    "print(x)"
   ]
  },
  {
   "cell_type": "markdown",
   "id": "265e7497",
   "metadata": {},
   "source": [
    "1.3.3 Задание: Создать массив 3x3x3 со случайными значениями"
   ]
  },
  {
   "cell_type": "code",
   "execution_count": 10,
   "id": "3eaadac2",
   "metadata": {},
   "outputs": [
    {
     "name": "stdout",
     "output_type": "stream",
     "text": [
      "[[[0.42005324 0.71512741 0.80677008]\n",
      "  [0.49516695 0.52453201 0.32752974]\n",
      "  [0.4755256  0.27358046 0.62392366]]\n",
      "\n",
      " [[0.5464549  0.93533241 0.05350306]\n",
      "  [0.38410891 0.90525786 0.36286735]\n",
      "  [0.6211225  0.65049844 0.861979  ]]\n",
      "\n",
      " [[0.66765716 0.28190774 0.52453169]\n",
      "  [0.68601191 0.32030294 0.1986768 ]\n",
      "  [0.38878413 0.47864928 0.55704195]]]\n"
     ]
    }
   ],
   "source": [
    "arr = np.random.random((3, 3, 3))\n",
    "print(arr)"
   ]
  },
  {
   "cell_type": "markdown",
   "id": "6ebbca9b",
   "metadata": {},
   "source": [
    "1.3.4 Задание: Создать матрицу с 0 внутри, и 1 на границах.\n"
   ]
  },
  {
   "cell_type": "code",
   "execution_count": 11,
   "id": "056d3a87",
   "metadata": {},
   "outputs": [
    {
     "name": "stdout",
     "output_type": "stream",
     "text": [
      "[[1. 1. 1. 1. 1.]\n",
      " [1. 0. 0. 0. 1.]\n",
      " [1. 0. 0. 0. 1.]\n",
      " [1. 0. 0. 0. 1.]\n",
      " [1. 1. 1. 1. 1.]]\n"
     ]
    }
   ],
   "source": [
    "x = np.ones((5,5))\n",
    "y = np.zeros((3,3))\n",
    "x[1:4, 1:4] = y\n",
    "print(x)"
   ]
  },
  {
   "cell_type": "markdown",
   "id": "94f0fd28",
   "metadata": {},
   "source": [
    "1.3.5 Задание: Создайте массив и отсортируйте его по убыванию"
   ]
  },
  {
   "cell_type": "code",
   "execution_count": 12,
   "id": "adc4eb60",
   "metadata": {},
   "outputs": [
    {
     "name": "stdout",
     "output_type": "stream",
     "text": [
      "Array before sorting: \n",
      " [[  1   2   5  -3   6   9   0 -10]]\n",
      "Array after sorting: \n",
      " [[  9   6   5   2   1   0  -3 -10]]\n"
     ]
    }
   ],
   "source": [
    "arr = np.array([[1, 2, 5, -3, 6, 9, 0, -10]])\n",
    "print(\"Array before sorting: \\n\", arr)\n",
    "print(\"Array after sorting: \\n\", -np.sort(-arr))"
   ]
  },
  {
   "cell_type": "markdown",
   "id": "2c36f259",
   "metadata": {},
   "source": [
    "1.3.6 Задание: Создайте матрицу, выведите ее форму, размер и размерность"
   ]
  },
  {
   "cell_type": "code",
   "execution_count": 13,
   "id": "d3abfb47",
   "metadata": {},
   "outputs": [
    {
     "name": "stdout",
     "output_type": "stream",
     "text": [
      "[[0.73622467 0.88991587 0.37636012 0.34927042]\n",
      " [0.88372771 0.93334516 0.33708643 0.72418626]\n",
      " [0.03561475 0.0830505  0.29817739 0.89432288]\n",
      " [0.8880488  0.72589189 0.45291076 0.62955485]]\n",
      "Форма:  (4, 4)\n",
      "Размер:  16\n",
      "Размерность:  2\n"
     ]
    }
   ],
   "source": [
    "x = np.random.random((4,4))\n",
    "print(x)\n",
    "print(\"Форма: \", x.shape)\n",
    "print(\"Размер: \", x.size)\n",
    "print(\"Размерность: \", x.ndim)"
   ]
  },
  {
   "cell_type": "markdown",
   "id": "711c12e0",
   "metadata": {},
   "source": [
    "2.2.1 Пример: Создать Series из списка Python, словаря Python, и массива Numpy\n",
    "(установить буквенные метки для последнего). "
   ]
  },
  {
   "cell_type": "code",
   "execution_count": 14,
   "id": "7f38b5ee",
   "metadata": {},
   "outputs": [
    {
     "name": "stdout",
     "output_type": "stream",
     "text": [
      "0    1\n",
      "1    2\n",
      "2    3\n",
      "3    4\n",
      "4    5\n",
      "dtype: int64\n",
      "a    1\n",
      "b    2\n",
      "c    3\n",
      "dtype: int64\n",
      "a    1\n",
      "b    2\n",
      "c    3\n",
      "d    4\n",
      "e    5\n",
      "dtype: int32\n"
     ]
    }
   ],
   "source": [
    "lst = [1, 2, 3, 4, 5]\n",
    "d = {'a':1, 'b':2, 'c':3}\n",
    "ndarr = np.array([1, 2, 3, 4, 5])\n",
    "\n",
    "s1 = pd.Series(lst)\n",
    "s2 = pd.Series(d)\n",
    "s3 = pd.Series(ndarr, ['a', 'b', 'c', 'd', 'e'])\n",
    "\n",
    "print(s1)\n",
    "print(s2)\n",
    "print(s3)"
   ]
  },
  {
   "cell_type": "markdown",
   "id": "a6d6eb79",
   "metadata": {},
   "source": [
    "2.2.2 Пример: Дано два Series. Напечатать их первые элементы и все элементы после\n",
    "третьего (во втором фрейме)."
   ]
  },
  {
   "cell_type": "code",
   "execution_count": 15,
   "id": "a799d092",
   "metadata": {},
   "outputs": [
    {
     "name": "stdout",
     "output_type": "stream",
     "text": [
      "1\n",
      "5\n",
      "3    2\n",
      "4    1\n",
      "dtype: int64\n"
     ]
    }
   ],
   "source": [
    "s1 = pd.Series([1, 2, 3, 4, 5], ['a', 'b', 'c', 'd', 'e'])\n",
    "s2 = pd.Series([5, 4, 3, 2, 1])\n",
    "print(s1['a'])\n",
    "print(s2[0])\n",
    "print(s2[3:])"
   ]
  },
  {
   "cell_type": "markdown",
   "id": "99a77d0a",
   "metadata": {},
   "source": [
    "2.2.3 Пример: Создайте новый фрейм данных"
   ]
  },
  {
   "cell_type": "code",
   "execution_count": 16,
   "id": "3c2c5814",
   "metadata": {},
   "outputs": [
    {
     "data": {
      "text/html": [
       "<div>\n",
       "<style scoped>\n",
       "    .dataframe tbody tr th:only-of-type {\n",
       "        vertical-align: middle;\n",
       "    }\n",
       "\n",
       "    .dataframe tbody tr th {\n",
       "        vertical-align: top;\n",
       "    }\n",
       "\n",
       "    .dataframe thead th {\n",
       "        text-align: right;\n",
       "    }\n",
       "</style>\n",
       "<table border=\"1\" class=\"dataframe\">\n",
       "  <thead>\n",
       "    <tr style=\"text-align: right;\">\n",
       "      <th></th>\n",
       "      <th>Имя</th>\n",
       "      <th>Возраст</th>\n",
       "      <th>Водитель</th>\n",
       "    </tr>\n",
       "  </thead>\n",
       "  <tbody>\n",
       "    <tr>\n",
       "      <th>0</th>\n",
       "      <td>Джеки Джексон</td>\n",
       "      <td>38</td>\n",
       "      <td>True</td>\n",
       "    </tr>\n",
       "    <tr>\n",
       "      <th>1</th>\n",
       "      <td>Стив Стивенсон</td>\n",
       "      <td>25</td>\n",
       "      <td>False</td>\n",
       "    </tr>\n",
       "  </tbody>\n",
       "</table>\n",
       "</div>"
      ],
      "text/plain": [
       "              Имя  Возраст  Водитель\n",
       "0   Джеки Джексон       38      True\n",
       "1  Стив Стивенсон       25     False"
      ]
     },
     "execution_count": 16,
     "metadata": {},
     "output_type": "execute_result"
    }
   ],
   "source": [
    "df = pd.DataFrame()\n",
    "df[\"Имя\"] = ['Джеки Джексон', 'Стив Стивенсон']\n",
    "df[\"Возраст\"] = [38, 25]\n",
    "df[\"Водитель\"] = [True, False]\n",
    "df"
   ]
  },
  {
   "cell_type": "markdown",
   "id": "e3303e8e",
   "metadata": {},
   "source": [
    "2.2.4 Пример: Загрузите фрейм данных по ссылке:\n",
    "https://raw.githubusercontent.com/chrisalbon/simulated_datasets/master/titanic.csv"
   ]
  },
  {
   "cell_type": "code",
   "execution_count": 17,
   "id": "9f6c6420",
   "metadata": {},
   "outputs": [
    {
     "data": {
      "text/html": [
       "<div>\n",
       "<style scoped>\n",
       "    .dataframe tbody tr th:only-of-type {\n",
       "        vertical-align: middle;\n",
       "    }\n",
       "\n",
       "    .dataframe tbody tr th {\n",
       "        vertical-align: top;\n",
       "    }\n",
       "\n",
       "    .dataframe thead th {\n",
       "        text-align: right;\n",
       "    }\n",
       "</style>\n",
       "<table border=\"1\" class=\"dataframe\">\n",
       "  <thead>\n",
       "    <tr style=\"text-align: right;\">\n",
       "      <th></th>\n",
       "      <th>Name</th>\n",
       "      <th>PClass</th>\n",
       "      <th>Age</th>\n",
       "      <th>Sex</th>\n",
       "      <th>Survived</th>\n",
       "      <th>SexCode</th>\n",
       "    </tr>\n",
       "  </thead>\n",
       "  <tbody>\n",
       "    <tr>\n",
       "      <th>0</th>\n",
       "      <td>Allen, Miss Elisabeth Walton</td>\n",
       "      <td>1st</td>\n",
       "      <td>29.00</td>\n",
       "      <td>female</td>\n",
       "      <td>1</td>\n",
       "      <td>1</td>\n",
       "    </tr>\n",
       "    <tr>\n",
       "      <th>1</th>\n",
       "      <td>Allison, Miss Helen Loraine</td>\n",
       "      <td>1st</td>\n",
       "      <td>2.00</td>\n",
       "      <td>female</td>\n",
       "      <td>0</td>\n",
       "      <td>1</td>\n",
       "    </tr>\n",
       "    <tr>\n",
       "      <th>2</th>\n",
       "      <td>Allison, Mr Hudson Joshua Creighton</td>\n",
       "      <td>1st</td>\n",
       "      <td>30.00</td>\n",
       "      <td>male</td>\n",
       "      <td>0</td>\n",
       "      <td>0</td>\n",
       "    </tr>\n",
       "    <tr>\n",
       "      <th>3</th>\n",
       "      <td>Allison, Mrs Hudson JC (Bessie Waldo Daniels)</td>\n",
       "      <td>1st</td>\n",
       "      <td>25.00</td>\n",
       "      <td>female</td>\n",
       "      <td>0</td>\n",
       "      <td>1</td>\n",
       "    </tr>\n",
       "    <tr>\n",
       "      <th>4</th>\n",
       "      <td>Allison, Master Hudson Trevor</td>\n",
       "      <td>1st</td>\n",
       "      <td>0.92</td>\n",
       "      <td>male</td>\n",
       "      <td>1</td>\n",
       "      <td>0</td>\n",
       "    </tr>\n",
       "  </tbody>\n",
       "</table>\n",
       "</div>"
      ],
      "text/plain": [
       "                                            Name PClass    Age     Sex  \\\n",
       "0                   Allen, Miss Elisabeth Walton    1st  29.00  female   \n",
       "1                    Allison, Miss Helen Loraine    1st   2.00  female   \n",
       "2            Allison, Mr Hudson Joshua Creighton    1st  30.00    male   \n",
       "3  Allison, Mrs Hudson JC (Bessie Waldo Daniels)    1st  25.00  female   \n",
       "4                  Allison, Master Hudson Trevor    1st   0.92    male   \n",
       "\n",
       "   Survived  SexCode  \n",
       "0         1        1  \n",
       "1         0        1  \n",
       "2         0        0  \n",
       "3         0        1  \n",
       "4         1        0  "
      ]
     },
     "execution_count": 17,
     "metadata": {},
     "output_type": "execute_result"
    }
   ],
   "source": [
    "#создать url-адрес\n",
    "url = 'https://raw.githubusercontent.com/chrisalbon/simulated_datasets/master/titanic.csv'\n",
    "#загрузить данные\n",
    "df = pd.read_csv(url)\n",
    "#показать пять строк\n",
    "df.head(5)"
   ]
  },
  {
   "cell_type": "markdown",
   "id": "6060a980",
   "metadata": {},
   "source": [
    "2.2.5 Пример: Пронализировать характеристики фрейма данных."
   ]
  },
  {
   "cell_type": "code",
   "execution_count": 18,
   "id": "afa85a63",
   "metadata": {},
   "outputs": [
    {
     "data": {
      "text/html": [
       "<div>\n",
       "<style scoped>\n",
       "    .dataframe tbody tr th:only-of-type {\n",
       "        vertical-align: middle;\n",
       "    }\n",
       "\n",
       "    .dataframe tbody tr th {\n",
       "        vertical-align: top;\n",
       "    }\n",
       "\n",
       "    .dataframe thead th {\n",
       "        text-align: right;\n",
       "    }\n",
       "</style>\n",
       "<table border=\"1\" class=\"dataframe\">\n",
       "  <thead>\n",
       "    <tr style=\"text-align: right;\">\n",
       "      <th></th>\n",
       "      <th>Age</th>\n",
       "      <th>Survived</th>\n",
       "      <th>SexCode</th>\n",
       "    </tr>\n",
       "  </thead>\n",
       "  <tbody>\n",
       "    <tr>\n",
       "      <th>count</th>\n",
       "      <td>756.000000</td>\n",
       "      <td>1313.000000</td>\n",
       "      <td>1313.000000</td>\n",
       "    </tr>\n",
       "    <tr>\n",
       "      <th>mean</th>\n",
       "      <td>30.397989</td>\n",
       "      <td>0.342727</td>\n",
       "      <td>0.351866</td>\n",
       "    </tr>\n",
       "    <tr>\n",
       "      <th>std</th>\n",
       "      <td>14.259049</td>\n",
       "      <td>0.474802</td>\n",
       "      <td>0.477734</td>\n",
       "    </tr>\n",
       "    <tr>\n",
       "      <th>min</th>\n",
       "      <td>0.170000</td>\n",
       "      <td>0.000000</td>\n",
       "      <td>0.000000</td>\n",
       "    </tr>\n",
       "    <tr>\n",
       "      <th>25%</th>\n",
       "      <td>21.000000</td>\n",
       "      <td>0.000000</td>\n",
       "      <td>0.000000</td>\n",
       "    </tr>\n",
       "    <tr>\n",
       "      <th>50%</th>\n",
       "      <td>28.000000</td>\n",
       "      <td>0.000000</td>\n",
       "      <td>0.000000</td>\n",
       "    </tr>\n",
       "    <tr>\n",
       "      <th>75%</th>\n",
       "      <td>39.000000</td>\n",
       "      <td>1.000000</td>\n",
       "      <td>1.000000</td>\n",
       "    </tr>\n",
       "    <tr>\n",
       "      <th>max</th>\n",
       "      <td>71.000000</td>\n",
       "      <td>1.000000</td>\n",
       "      <td>1.000000</td>\n",
       "    </tr>\n",
       "  </tbody>\n",
       "</table>\n",
       "</div>"
      ],
      "text/plain": [
       "              Age     Survived      SexCode\n",
       "count  756.000000  1313.000000  1313.000000\n",
       "mean    30.397989     0.342727     0.351866\n",
       "std     14.259049     0.474802     0.477734\n",
       "min      0.170000     0.000000     0.000000\n",
       "25%     21.000000     0.000000     0.000000\n",
       "50%     28.000000     0.000000     0.000000\n",
       "75%     39.000000     1.000000     1.000000\n",
       "max     71.000000     1.000000     1.000000"
      ]
     },
     "execution_count": 18,
     "metadata": {},
     "output_type": "execute_result"
    }
   ],
   "source": [
    "df.head(2) #первые 2 строки\n",
    "df.tail(3) #последние 3 строик\n",
    "df.shape #количество строк и столбцов: вывел (1313, 6)\n",
    "df.describe() #описательная статистика для числовых столбцов"
   ]
  },
  {
   "cell_type": "markdown",
   "id": "a35c23dd",
   "metadata": {},
   "source": [
    "2.2.6 Пример: Выберите индивидуальные данные или срезы фрейма данных"
   ]
  },
  {
   "cell_type": "code",
   "execution_count": 19,
   "id": "e866829f",
   "metadata": {},
   "outputs": [
    {
     "data": {
      "text/html": [
       "<div>\n",
       "<style scoped>\n",
       "    .dataframe tbody tr th:only-of-type {\n",
       "        vertical-align: middle;\n",
       "    }\n",
       "\n",
       "    .dataframe tbody tr th {\n",
       "        vertical-align: top;\n",
       "    }\n",
       "\n",
       "    .dataframe thead th {\n",
       "        text-align: right;\n",
       "    }\n",
       "</style>\n",
       "<table border=\"1\" class=\"dataframe\">\n",
       "  <thead>\n",
       "    <tr style=\"text-align: right;\">\n",
       "      <th></th>\n",
       "      <th>Name</th>\n",
       "      <th>PClass</th>\n",
       "      <th>Age</th>\n",
       "      <th>Sex</th>\n",
       "      <th>Survived</th>\n",
       "      <th>SexCode</th>\n",
       "    </tr>\n",
       "  </thead>\n",
       "  <tbody>\n",
       "    <tr>\n",
       "      <th>1</th>\n",
       "      <td>Allison, Miss Helen Loraine</td>\n",
       "      <td>1st</td>\n",
       "      <td>2.0</td>\n",
       "      <td>female</td>\n",
       "      <td>0</td>\n",
       "      <td>1</td>\n",
       "    </tr>\n",
       "    <tr>\n",
       "      <th>2</th>\n",
       "      <td>Allison, Mr Hudson Joshua Creighton</td>\n",
       "      <td>1st</td>\n",
       "      <td>30.0</td>\n",
       "      <td>male</td>\n",
       "      <td>0</td>\n",
       "      <td>0</td>\n",
       "    </tr>\n",
       "    <tr>\n",
       "      <th>3</th>\n",
       "      <td>Allison, Mrs Hudson JC (Bessie Waldo Daniels)</td>\n",
       "      <td>1st</td>\n",
       "      <td>25.0</td>\n",
       "      <td>female</td>\n",
       "      <td>0</td>\n",
       "      <td>1</td>\n",
       "    </tr>\n",
       "  </tbody>\n",
       "</table>\n",
       "</div>"
      ],
      "text/plain": [
       "                                            Name PClass   Age     Sex  \\\n",
       "1                    Allison, Miss Helen Loraine    1st   2.0  female   \n",
       "2            Allison, Mr Hudson Joshua Creighton    1st  30.0    male   \n",
       "3  Allison, Mrs Hudson JC (Bessie Waldo Daniels)    1st  25.0  female   \n",
       "\n",
       "   Survived  SexCode  \n",
       "1         0        1  \n",
       "2         0        0  \n",
       "3         0        1  "
      ]
     },
     "execution_count": 19,
     "metadata": {},
     "output_type": "execute_result"
    }
   ],
   "source": [
    "df.iloc[1:4] #выбор со 2 по 3 строки (loc вкл 4 строку) #iloc по индексу, loc по названию"
   ]
  },
  {
   "cell_type": "markdown",
   "id": "198b1441",
   "metadata": {},
   "source": [
    "2.2.7 Пример: Требуется отобрать строки фрейма данных на основе некоторого условия. Необходимо сформировать новый фрейм данных из пассажиров первого класса"
   ]
  },
  {
   "cell_type": "code",
   "execution_count": 20,
   "id": "071ad2ff",
   "metadata": {},
   "outputs": [
    {
     "data": {
      "text/html": [
       "<div>\n",
       "<style scoped>\n",
       "    .dataframe tbody tr th:only-of-type {\n",
       "        vertical-align: middle;\n",
       "    }\n",
       "\n",
       "    .dataframe tbody tr th {\n",
       "        vertical-align: top;\n",
       "    }\n",
       "\n",
       "    .dataframe thead th {\n",
       "        text-align: right;\n",
       "    }\n",
       "</style>\n",
       "<table border=\"1\" class=\"dataframe\">\n",
       "  <thead>\n",
       "    <tr style=\"text-align: right;\">\n",
       "      <th></th>\n",
       "      <th>Name</th>\n",
       "      <th>PClass</th>\n",
       "      <th>Age</th>\n",
       "      <th>Sex</th>\n",
       "      <th>Survived</th>\n",
       "      <th>SexCode</th>\n",
       "    </tr>\n",
       "  </thead>\n",
       "  <tbody>\n",
       "    <tr>\n",
       "      <th>0</th>\n",
       "      <td>Allen, Miss Elisabeth Walton</td>\n",
       "      <td>1st</td>\n",
       "      <td>29.0</td>\n",
       "      <td>female</td>\n",
       "      <td>1</td>\n",
       "      <td>1</td>\n",
       "    </tr>\n",
       "    <tr>\n",
       "      <th>1</th>\n",
       "      <td>Allison, Miss Helen Loraine</td>\n",
       "      <td>1st</td>\n",
       "      <td>2.0</td>\n",
       "      <td>female</td>\n",
       "      <td>0</td>\n",
       "      <td>1</td>\n",
       "    </tr>\n",
       "  </tbody>\n",
       "</table>\n",
       "</div>"
      ],
      "text/plain": [
       "                           Name PClass   Age     Sex  Survived  SexCode\n",
       "0  Allen, Miss Elisabeth Walton    1st  29.0  female         1        1\n",
       "1   Allison, Miss Helen Loraine    1st   2.0  female         0        1"
      ]
     },
     "execution_count": 20,
     "metadata": {},
     "output_type": "execute_result"
    }
   ],
   "source": [
    "df[df['PClass'] == '1st'].head(2)"
   ]
  },
  {
   "cell_type": "markdown",
   "id": "ee896c2b",
   "metadata": {},
   "source": [
    "2.3.1 Задание: Найдитн евклидово расстояние между двумя Series (точками) a и b, не\n",
    "используя встроенную формулу"
   ]
  },
  {
   "cell_type": "code",
   "execution_count": 21,
   "id": "3b25a79e",
   "metadata": {},
   "outputs": [
    {
     "name": "stdout",
     "output_type": "stream",
     "text": [
      "2.0\n",
      "2.0\n"
     ]
    }
   ],
   "source": [
    "#евклидово расстояние:\n",
    "#это длина отрезка прямой между этими двумя точками. \n",
    "a = pd.Series([2, 4, 6, 8])\n",
    "b = pd.Series([1, 3, 5, 7])\n",
    "\n",
    "print(sum((a - b)**2)**0.5)\n",
    "\n",
    "#c помощью встроенной формулы: \n",
    "print(np.linalg.norm(a-b))"
   ]
  },
  {
   "cell_type": "markdown",
   "id": "bf76412c",
   "metadata": {},
   "source": [
    "2.3.2 Задание:  Найдите в Интернете ссылку на любой csv файл и сформируйте из него фрейм данных (например, коллекцию фреймов данных можно найти здесь: https://github.com/akmand/datasets)"
   ]
  },
  {
   "cell_type": "code",
   "execution_count": 22,
   "id": "b7880829",
   "metadata": {},
   "outputs": [
    {
     "data": {
      "text/html": [
       "<div>\n",
       "<style scoped>\n",
       "    .dataframe tbody tr th:only-of-type {\n",
       "        vertical-align: middle;\n",
       "    }\n",
       "\n",
       "    .dataframe tbody tr th {\n",
       "        vertical-align: top;\n",
       "    }\n",
       "\n",
       "    .dataframe thead th {\n",
       "        text-align: right;\n",
       "    }\n",
       "</style>\n",
       "<table border=\"1\" class=\"dataframe\">\n",
       "  <thead>\n",
       "    <tr style=\"text-align: right;\">\n",
       "      <th></th>\n",
       "      <th>Date</th>\n",
       "      <th>Open</th>\n",
       "      <th>High</th>\n",
       "      <th>Low</th>\n",
       "      <th>Close</th>\n",
       "      <th>Adj Close</th>\n",
       "      <th>Volume</th>\n",
       "    </tr>\n",
       "  </thead>\n",
       "  <tbody>\n",
       "    <tr>\n",
       "      <th>0</th>\n",
       "      <td>2021-01-01</td>\n",
       "      <td>87.876999</td>\n",
       "      <td>96.742996</td>\n",
       "      <td>84.949997</td>\n",
       "      <td>91.787003</td>\n",
       "      <td>91.787003</td>\n",
       "      <td>661654000</td>\n",
       "    </tr>\n",
       "    <tr>\n",
       "      <th>1</th>\n",
       "      <td>2021-02-01</td>\n",
       "      <td>92.678497</td>\n",
       "      <td>107.634003</td>\n",
       "      <td>92.546501</td>\n",
       "      <td>101.843002</td>\n",
       "      <td>101.843002</td>\n",
       "      <td>588580000</td>\n",
       "    </tr>\n",
       "    <tr>\n",
       "      <th>2</th>\n",
       "      <td>2021-03-01</td>\n",
       "      <td>102.825996</td>\n",
       "      <td>106.440498</td>\n",
       "      <td>100.500000</td>\n",
       "      <td>103.431503</td>\n",
       "      <td>103.431503</td>\n",
       "      <td>695884000</td>\n",
       "    </tr>\n",
       "    <tr>\n",
       "      <th>3</th>\n",
       "      <td>2021-04-01</td>\n",
       "      <td>104.897499</td>\n",
       "      <td>122.618896</td>\n",
       "      <td>104.844498</td>\n",
       "      <td>120.505997</td>\n",
       "      <td>120.505997</td>\n",
       "      <td>614494000</td>\n",
       "    </tr>\n",
       "    <tr>\n",
       "      <th>4</th>\n",
       "      <td>2021-05-01</td>\n",
       "      <td>120.136002</td>\n",
       "      <td>122.147202</td>\n",
       "      <td>111.502502</td>\n",
       "      <td>120.578003</td>\n",
       "      <td>120.578003</td>\n",
       "      <td>509114000</td>\n",
       "    </tr>\n",
       "  </tbody>\n",
       "</table>\n",
       "</div>"
      ],
      "text/plain": [
       "         Date        Open        High         Low       Close   Adj Close  \\\n",
       "0  2021-01-01   87.876999   96.742996   84.949997   91.787003   91.787003   \n",
       "1  2021-02-01   92.678497  107.634003   92.546501  101.843002  101.843002   \n",
       "2  2021-03-01  102.825996  106.440498  100.500000  103.431503  103.431503   \n",
       "3  2021-04-01  104.897499  122.618896  104.844498  120.505997  120.505997   \n",
       "4  2021-05-01  120.136002  122.147202  111.502502  120.578003  120.578003   \n",
       "\n",
       "      Volume  \n",
       "0  661654000  \n",
       "1  588580000  \n",
       "2  695884000  \n",
       "3  614494000  \n",
       "4  509114000  "
      ]
     },
     "execution_count": 22,
     "metadata": {},
     "output_type": "execute_result"
    }
   ],
   "source": [
    "df = pd.read_csv(\"GOOG.csv\") #данные из Notebook1 по стоимости акций google за 12 месяцев 2021г\n",
    "df.head()"
   ]
  },
  {
   "cell_type": "markdown",
   "id": "fcfaca36",
   "metadata": {},
   "source": [
    "2.3.3 Задание: Проделайте с получившемся из предыдущего задания фреймом данных\n",
    "те же действия, что и в примерах 2.2.5-2.2.7."
   ]
  },
  {
   "cell_type": "code",
   "execution_count": 23,
   "id": "1a09dfd7",
   "metadata": {},
   "outputs": [
    {
     "name": "stdout",
     "output_type": "stream",
     "text": [
      "(12, 7)\n"
     ]
    },
    {
     "data": {
      "text/html": [
       "<div>\n",
       "<style scoped>\n",
       "    .dataframe tbody tr th:only-of-type {\n",
       "        vertical-align: middle;\n",
       "    }\n",
       "\n",
       "    .dataframe tbody tr th {\n",
       "        vertical-align: top;\n",
       "    }\n",
       "\n",
       "    .dataframe thead th {\n",
       "        text-align: right;\n",
       "    }\n",
       "</style>\n",
       "<table border=\"1\" class=\"dataframe\">\n",
       "  <thead>\n",
       "    <tr style=\"text-align: right;\">\n",
       "      <th></th>\n",
       "      <th>Open</th>\n",
       "      <th>High</th>\n",
       "      <th>Low</th>\n",
       "      <th>Close</th>\n",
       "      <th>Adj Close</th>\n",
       "      <th>Volume</th>\n",
       "    </tr>\n",
       "  </thead>\n",
       "  <tbody>\n",
       "    <tr>\n",
       "      <th>count</th>\n",
       "      <td>12.000000</td>\n",
       "      <td>12.000000</td>\n",
       "      <td>12.000000</td>\n",
       "      <td>12.000000</td>\n",
       "      <td>12.000000</td>\n",
       "      <td>1.200000e+01</td>\n",
       "    </tr>\n",
       "    <tr>\n",
       "      <th>mean</th>\n",
       "      <td>121.785935</td>\n",
       "      <td>130.606133</td>\n",
       "      <td>118.250062</td>\n",
       "      <td>126.067667</td>\n",
       "      <td>126.067667</td>\n",
       "      <td>5.309727e+08</td>\n",
       "    </tr>\n",
       "    <tr>\n",
       "      <th>std</th>\n",
       "      <td>20.777579</td>\n",
       "      <td>19.447462</td>\n",
       "      <td>19.173103</td>\n",
       "      <td>18.963056</td>\n",
       "      <td>18.963056</td>\n",
       "      <td>9.451673e+07</td>\n",
       "    </tr>\n",
       "    <tr>\n",
       "      <th>min</th>\n",
       "      <td>87.876999</td>\n",
       "      <td>96.742996</td>\n",
       "      <td>84.949997</td>\n",
       "      <td>91.787003</td>\n",
       "      <td>91.787003</td>\n",
       "      <td>3.723120e+08</td>\n",
       "    </tr>\n",
       "    <tr>\n",
       "      <th>25%</th>\n",
       "      <td>104.379623</td>\n",
       "      <td>118.518902</td>\n",
       "      <td>103.758374</td>\n",
       "      <td>116.237373</td>\n",
       "      <td>116.237373</td>\n",
       "      <td>4.736390e+08</td>\n",
       "    </tr>\n",
       "    <tr>\n",
       "      <th>50%</th>\n",
       "      <td>122.974873</td>\n",
       "      <td>133.903500</td>\n",
       "      <td>121.995624</td>\n",
       "      <td>129.290752</td>\n",
       "      <td>129.290752</td>\n",
       "      <td>5.071560e+08</td>\n",
       "    </tr>\n",
       "    <tr>\n",
       "      <th>75%</th>\n",
       "      <td>137.666496</td>\n",
       "      <td>147.394871</td>\n",
       "      <td>133.295875</td>\n",
       "      <td>143.008873</td>\n",
       "      <td>143.008873</td>\n",
       "      <td>5.950585e+08</td>\n",
       "    </tr>\n",
       "    <tr>\n",
       "      <th>max</th>\n",
       "      <td>148.164993</td>\n",
       "      <td>151.850006</td>\n",
       "      <td>142.065994</td>\n",
       "      <td>148.270493</td>\n",
       "      <td>148.270493</td>\n",
       "      <td>6.958840e+08</td>\n",
       "    </tr>\n",
       "  </tbody>\n",
       "</table>\n",
       "</div>"
      ],
      "text/plain": [
       "             Open        High         Low       Close   Adj Close  \\\n",
       "count   12.000000   12.000000   12.000000   12.000000   12.000000   \n",
       "mean   121.785935  130.606133  118.250062  126.067667  126.067667   \n",
       "std     20.777579   19.447462   19.173103   18.963056   18.963056   \n",
       "min     87.876999   96.742996   84.949997   91.787003   91.787003   \n",
       "25%    104.379623  118.518902  103.758374  116.237373  116.237373   \n",
       "50%    122.974873  133.903500  121.995624  129.290752  129.290752   \n",
       "75%    137.666496  147.394871  133.295875  143.008873  143.008873   \n",
       "max    148.164993  151.850006  142.065994  148.270493  148.270493   \n",
       "\n",
       "             Volume  \n",
       "count  1.200000e+01  \n",
       "mean   5.309727e+08  \n",
       "std    9.451673e+07  \n",
       "min    3.723120e+08  \n",
       "25%    4.736390e+08  \n",
       "50%    5.071560e+08  \n",
       "75%    5.950585e+08  \n",
       "max    6.958840e+08  "
      ]
     },
     "execution_count": 23,
     "metadata": {},
     "output_type": "execute_result"
    }
   ],
   "source": [
    "df.tail() #вывод последних 5 строк\n",
    "print(df.shape) #получение кол-во строк и столбоц\n",
    "df.describe() #статистика по столбцам"
   ]
  },
  {
   "cell_type": "code",
   "execution_count": 24,
   "id": "df193be1",
   "metadata": {},
   "outputs": [
    {
     "data": {
      "text/html": [
       "<div>\n",
       "<style scoped>\n",
       "    .dataframe tbody tr th:only-of-type {\n",
       "        vertical-align: middle;\n",
       "    }\n",
       "\n",
       "    .dataframe tbody tr th {\n",
       "        vertical-align: top;\n",
       "    }\n",
       "\n",
       "    .dataframe thead th {\n",
       "        text-align: right;\n",
       "    }\n",
       "</style>\n",
       "<table border=\"1\" class=\"dataframe\">\n",
       "  <thead>\n",
       "    <tr style=\"text-align: right;\">\n",
       "      <th></th>\n",
       "      <th>Date</th>\n",
       "      <th>Open</th>\n",
       "      <th>High</th>\n",
       "      <th>Low</th>\n",
       "      <th>Close</th>\n",
       "      <th>Adj Close</th>\n",
       "      <th>Volume</th>\n",
       "    </tr>\n",
       "  </thead>\n",
       "  <tbody>\n",
       "    <tr>\n",
       "      <th>4</th>\n",
       "      <td>2021-05-01</td>\n",
       "      <td>120.136002</td>\n",
       "      <td>122.147202</td>\n",
       "      <td>111.502502</td>\n",
       "      <td>120.578003</td>\n",
       "      <td>120.578003</td>\n",
       "      <td>509114000</td>\n",
       "    </tr>\n",
       "    <tr>\n",
       "      <th>5</th>\n",
       "      <td>2021-06-01</td>\n",
       "      <td>121.099998</td>\n",
       "      <td>127.795998</td>\n",
       "      <td>119.141502</td>\n",
       "      <td>125.316002</td>\n",
       "      <td>125.316002</td>\n",
       "      <td>548656000</td>\n",
       "    </tr>\n",
       "    <tr>\n",
       "      <th>6</th>\n",
       "      <td>2021-07-01</td>\n",
       "      <td>124.849747</td>\n",
       "      <td>140.011002</td>\n",
       "      <td>124.849747</td>\n",
       "      <td>135.220993</td>\n",
       "      <td>135.220993</td>\n",
       "      <td>456776000</td>\n",
       "    </tr>\n",
       "  </tbody>\n",
       "</table>\n",
       "</div>"
      ],
      "text/plain": [
       "         Date        Open        High         Low       Close   Adj Close  \\\n",
       "4  2021-05-01  120.136002  122.147202  111.502502  120.578003  120.578003   \n",
       "5  2021-06-01  121.099998  127.795998  119.141502  125.316002  125.316002   \n",
       "6  2021-07-01  124.849747  140.011002  124.849747  135.220993  135.220993   \n",
       "\n",
       "      Volume  \n",
       "4  509114000  \n",
       "5  548656000  \n",
       "6  456776000  "
      ]
     },
     "execution_count": 24,
     "metadata": {},
     "output_type": "execute_result"
    }
   ],
   "source": [
    "df.loc[4:6] #вывод с 5 по 7 строку"
   ]
  },
  {
   "cell_type": "code",
   "execution_count": 25,
   "id": "3d88b0ed",
   "metadata": {},
   "outputs": [
    {
     "data": {
      "text/html": [
       "<div>\n",
       "<style scoped>\n",
       "    .dataframe tbody tr th:only-of-type {\n",
       "        vertical-align: middle;\n",
       "    }\n",
       "\n",
       "    .dataframe tbody tr th {\n",
       "        vertical-align: top;\n",
       "    }\n",
       "\n",
       "    .dataframe thead th {\n",
       "        text-align: right;\n",
       "    }\n",
       "</style>\n",
       "<table border=\"1\" class=\"dataframe\">\n",
       "  <thead>\n",
       "    <tr style=\"text-align: right;\">\n",
       "      <th></th>\n",
       "      <th>Date</th>\n",
       "      <th>Open</th>\n",
       "      <th>High</th>\n",
       "      <th>Low</th>\n",
       "      <th>Close</th>\n",
       "      <th>Adj Close</th>\n",
       "      <th>Volume</th>\n",
       "    </tr>\n",
       "  </thead>\n",
       "  <tbody>\n",
       "    <tr>\n",
       "      <th>0</th>\n",
       "      <td>2021-01-01</td>\n",
       "      <td>87.876999</td>\n",
       "      <td>96.742996</td>\n",
       "      <td>84.949997</td>\n",
       "      <td>91.787003</td>\n",
       "      <td>91.787003</td>\n",
       "      <td>661654000</td>\n",
       "    </tr>\n",
       "    <tr>\n",
       "      <th>2</th>\n",
       "      <td>2021-03-01</td>\n",
       "      <td>102.825996</td>\n",
       "      <td>106.440498</td>\n",
       "      <td>100.500000</td>\n",
       "      <td>103.431503</td>\n",
       "      <td>103.431503</td>\n",
       "      <td>695884000</td>\n",
       "    </tr>\n",
       "    <tr>\n",
       "      <th>3</th>\n",
       "      <td>2021-04-01</td>\n",
       "      <td>104.897499</td>\n",
       "      <td>122.618896</td>\n",
       "      <td>104.844498</td>\n",
       "      <td>120.505997</td>\n",
       "      <td>120.505997</td>\n",
       "      <td>614494000</td>\n",
       "    </tr>\n",
       "  </tbody>\n",
       "</table>\n",
       "</div>"
      ],
      "text/plain": [
       "         Date        Open        High         Low       Close   Adj Close  \\\n",
       "0  2021-01-01   87.876999   96.742996   84.949997   91.787003   91.787003   \n",
       "2  2021-03-01  102.825996  106.440498  100.500000  103.431503  103.431503   \n",
       "3  2021-04-01  104.897499  122.618896  104.844498  120.505997  120.505997   \n",
       "\n",
       "      Volume  \n",
       "0  661654000  \n",
       "2  695884000  \n",
       "3  614494000  "
      ]
     },
     "execution_count": 25,
     "metadata": {},
     "output_type": "execute_result"
    }
   ],
   "source": [
    "df[df['Volume'] > 588580000] #создание нового датафрейма, где значение Volume больше указанного"
   ]
  },
  {
   "cell_type": "markdown",
   "id": "273d3980",
   "metadata": {},
   "source": [
    "3.2.1 Пример: Прошкалируйте числовой признак в диапазон между двумя значениями."
   ]
  },
  {
   "cell_type": "code",
   "execution_count": 26,
   "id": "add33fcf",
   "metadata": {},
   "outputs": [
    {
     "data": {
      "text/plain": [
       "array([[0.        ],\n",
       "       [0.28571429],\n",
       "       [0.35714286],\n",
       "       [0.42857143],\n",
       "       [1.        ]])"
      ]
     },
     "execution_count": 26,
     "metadata": {},
     "output_type": "execute_result"
    }
   ],
   "source": [
    "from sklearn import preprocessing\n",
    "\n",
    "#создать признак\n",
    "feature = np.array([[-500.5], [-100.1], [0], [100.1], [900.9]])\n",
    "\n",
    "#создать шкалировщик\n",
    "minmax_scale = preprocessing.MinMaxScaler(feature_range = (0, 1))\n",
    "\n",
    "#прошкалировать признак\n",
    "scaled_feature = minmax_scale.fit_transform(feature)\n",
    "\n",
    "#показать прошкалированный признак\n",
    "scaled_feature"
   ]
  },
  {
   "cell_type": "markdown",
   "id": "aa46dc0f",
   "metadata": {},
   "source": [
    "3.2.2 Пример: Преобразуйте признак, чтобы он имел среднее значение 0 и стандартное отклонение 1."
   ]
  },
  {
   "cell_type": "code",
   "execution_count": 27,
   "id": "b77f1b5c",
   "metadata": {},
   "outputs": [
    {
     "name": "stdout",
     "output_type": "stream",
     "text": [
      "[[-0.76058269]\n",
      " [-0.54177196]\n",
      " [-0.35009716]\n",
      " [-0.32271504]\n",
      " [ 1.97516685]]\n",
      "Среднее: 0\n",
      "Стандартное отклонение: 1.0\n"
     ]
    }
   ],
   "source": [
    "x = np.array([[-1000.1], [-200.2], [500.5], [600.6], [9000.9]])\n",
    "\n",
    "#создать шкалировщик\n",
    "scaler = preprocessing.StandardScaler()\n",
    "\n",
    "#преобразовать признак\n",
    "standardized = scaler.fit_transform(x)\n",
    "\n",
    "#показать признак\n",
    "print(standardized)\n",
    "\n",
    "print(\"Среднее:\", round(standardized.mean()))\n",
    "print(\"Стандартное отклонение:\", standardized.std())"
   ]
  },
  {
   "cell_type": "markdown",
   "id": "d2057be5",
   "metadata": {},
   "source": [
    "3.2.3 Пример: \n",
    "Дан фрейм данных\n",
    "\n",
    "dfTest = pd.DataFrame({'A':[14.00,90.20,90.95,96.27,91.21],\n",
    " 'B':[103.02,107.26,110.35,114.23,114.68],\n",
    " 'C':['big','small','big','small','small']})\n",
    " \n",
    "Необходимо масштабировать его числовые столбцы."
   ]
  },
  {
   "cell_type": "code",
   "execution_count": 28,
   "id": "27ea6a48",
   "metadata": {},
   "outputs": [
    {
     "data": {
      "text/html": [
       "<div>\n",
       "<style scoped>\n",
       "    .dataframe tbody tr th:only-of-type {\n",
       "        vertical-align: middle;\n",
       "    }\n",
       "\n",
       "    .dataframe tbody tr th {\n",
       "        vertical-align: top;\n",
       "    }\n",
       "\n",
       "    .dataframe thead th {\n",
       "        text-align: right;\n",
       "    }\n",
       "</style>\n",
       "<table border=\"1\" class=\"dataframe\">\n",
       "  <thead>\n",
       "    <tr style=\"text-align: right;\">\n",
       "      <th></th>\n",
       "      <th>A</th>\n",
       "      <th>B</th>\n",
       "      <th>C</th>\n",
       "    </tr>\n",
       "  </thead>\n",
       "  <tbody>\n",
       "    <tr>\n",
       "      <th>0</th>\n",
       "      <td>0.000000</td>\n",
       "      <td>0.000000</td>\n",
       "      <td>big</td>\n",
       "    </tr>\n",
       "    <tr>\n",
       "      <th>1</th>\n",
       "      <td>0.926219</td>\n",
       "      <td>0.363636</td>\n",
       "      <td>small</td>\n",
       "    </tr>\n",
       "    <tr>\n",
       "      <th>2</th>\n",
       "      <td>0.935335</td>\n",
       "      <td>0.628645</td>\n",
       "      <td>big</td>\n",
       "    </tr>\n",
       "    <tr>\n",
       "      <th>3</th>\n",
       "      <td>1.000000</td>\n",
       "      <td>0.961407</td>\n",
       "      <td>small</td>\n",
       "    </tr>\n",
       "    <tr>\n",
       "      <th>4</th>\n",
       "      <td>0.938495</td>\n",
       "      <td>1.000000</td>\n",
       "      <td>small</td>\n",
       "    </tr>\n",
       "  </tbody>\n",
       "</table>\n",
       "</div>"
      ],
      "text/plain": [
       "          A         B      C\n",
       "0  0.000000  0.000000    big\n",
       "1  0.926219  0.363636  small\n",
       "2  0.935335  0.628645    big\n",
       "3  1.000000  0.961407  small\n",
       "4  0.938495  1.000000  small"
      ]
     },
     "execution_count": 28,
     "metadata": {},
     "output_type": "execute_result"
    }
   ],
   "source": [
    "from sklearn.preprocessing import MinMaxScaler\n",
    "\n",
    "scaler = MinMaxScaler()\n",
    "dfTest = pd.DataFrame({'A':[14.00,90.20,90.95,96.27,91.21],\n",
    "                       'B':[103.02,107.26,110.35,114.23,114.68],\n",
    "                       'C':['big','small','big','small','small']})\n",
    "dfTest[['A', 'B']] = scaler.fit_transform(dfTest[['A', 'B']])\n",
    "dfTest"
   ]
  },
  {
   "attachments": {
    "image.png": {
     "image/png": "[encoded data removed]"
    }
   },
   "cell_type": "markdown",
   "id": "885101fa",
   "metadata": {},
   "source": [
    "3.3.2 Задание:\n",
    "Загрузить фрейм данных по ссылке:\n",
    "https://raw.githubusercontent.com/akmand/datasets/master/iris.csv.\n",
    "Необходимо выполнить нормализацию первого числового признака\n",
    "(sepal_length_cm) с использованием минимаксного преобразования, а\n",
    "второго (sepal_width_cm) с задействованием z-масштабирования.\n",
    "\n",
    "![image.png](attachment:image.png)\n"
   ]
  },
  {
   "cell_type": "code",
   "execution_count": 29,
   "id": "175f8f13",
   "metadata": {},
   "outputs": [
    {
     "data": {
      "text/html": [
       "<div>\n",
       "<style scoped>\n",
       "    .dataframe tbody tr th:only-of-type {\n",
       "        vertical-align: middle;\n",
       "    }\n",
       "\n",
       "    .dataframe tbody tr th {\n",
       "        vertical-align: top;\n",
       "    }\n",
       "\n",
       "    .dataframe thead th {\n",
       "        text-align: right;\n",
       "    }\n",
       "</style>\n",
       "<table border=\"1\" class=\"dataframe\">\n",
       "  <thead>\n",
       "    <tr style=\"text-align: right;\">\n",
       "      <th></th>\n",
       "      <th>sepal_length_cm</th>\n",
       "      <th>sepal_width_cm</th>\n",
       "      <th>petal_length_cm</th>\n",
       "      <th>petal_width_cm</th>\n",
       "      <th>species</th>\n",
       "      <th>sepal_length_cm_scaler</th>\n",
       "      <th>sepal_width_cm_scaler</th>\n",
       "    </tr>\n",
       "  </thead>\n",
       "  <tbody>\n",
       "    <tr>\n",
       "      <th>0</th>\n",
       "      <td>5.1</td>\n",
       "      <td>3.5</td>\n",
       "      <td>1.4</td>\n",
       "      <td>0.2</td>\n",
       "      <td>setosa</td>\n",
       "      <td>0.222222</td>\n",
       "      <td>1.032057</td>\n",
       "    </tr>\n",
       "    <tr>\n",
       "      <th>1</th>\n",
       "      <td>4.9</td>\n",
       "      <td>3.0</td>\n",
       "      <td>1.4</td>\n",
       "      <td>0.2</td>\n",
       "      <td>setosa</td>\n",
       "      <td>0.166667</td>\n",
       "      <td>-0.124958</td>\n",
       "    </tr>\n",
       "    <tr>\n",
       "      <th>2</th>\n",
       "      <td>4.7</td>\n",
       "      <td>3.2</td>\n",
       "      <td>1.3</td>\n",
       "      <td>0.2</td>\n",
       "      <td>setosa</td>\n",
       "      <td>0.111111</td>\n",
       "      <td>0.337848</td>\n",
       "    </tr>\n",
       "    <tr>\n",
       "      <th>3</th>\n",
       "      <td>4.6</td>\n",
       "      <td>3.1</td>\n",
       "      <td>1.5</td>\n",
       "      <td>0.2</td>\n",
       "      <td>setosa</td>\n",
       "      <td>0.083333</td>\n",
       "      <td>0.106445</td>\n",
       "    </tr>\n",
       "    <tr>\n",
       "      <th>4</th>\n",
       "      <td>5.0</td>\n",
       "      <td>3.6</td>\n",
       "      <td>1.4</td>\n",
       "      <td>0.2</td>\n",
       "      <td>setosa</td>\n",
       "      <td>0.194444</td>\n",
       "      <td>1.263460</td>\n",
       "    </tr>\n",
       "    <tr>\n",
       "      <th>...</th>\n",
       "      <td>...</td>\n",
       "      <td>...</td>\n",
       "      <td>...</td>\n",
       "      <td>...</td>\n",
       "      <td>...</td>\n",
       "      <td>...</td>\n",
       "      <td>...</td>\n",
       "    </tr>\n",
       "    <tr>\n",
       "      <th>145</th>\n",
       "      <td>6.7</td>\n",
       "      <td>3.0</td>\n",
       "      <td>5.2</td>\n",
       "      <td>2.3</td>\n",
       "      <td>virginica</td>\n",
       "      <td>0.666667</td>\n",
       "      <td>-0.124958</td>\n",
       "    </tr>\n",
       "    <tr>\n",
       "      <th>146</th>\n",
       "      <td>6.3</td>\n",
       "      <td>2.5</td>\n",
       "      <td>5.0</td>\n",
       "      <td>1.9</td>\n",
       "      <td>virginica</td>\n",
       "      <td>0.555556</td>\n",
       "      <td>-1.281972</td>\n",
       "    </tr>\n",
       "    <tr>\n",
       "      <th>147</th>\n",
       "      <td>6.5</td>\n",
       "      <td>3.0</td>\n",
       "      <td>5.2</td>\n",
       "      <td>2.0</td>\n",
       "      <td>virginica</td>\n",
       "      <td>0.611111</td>\n",
       "      <td>-0.124958</td>\n",
       "    </tr>\n",
       "    <tr>\n",
       "      <th>148</th>\n",
       "      <td>6.2</td>\n",
       "      <td>3.4</td>\n",
       "      <td>5.4</td>\n",
       "      <td>2.3</td>\n",
       "      <td>virginica</td>\n",
       "      <td>0.527778</td>\n",
       "      <td>0.800654</td>\n",
       "    </tr>\n",
       "    <tr>\n",
       "      <th>149</th>\n",
       "      <td>5.9</td>\n",
       "      <td>3.0</td>\n",
       "      <td>5.1</td>\n",
       "      <td>1.8</td>\n",
       "      <td>virginica</td>\n",
       "      <td>0.444444</td>\n",
       "      <td>-0.124958</td>\n",
       "    </tr>\n",
       "  </tbody>\n",
       "</table>\n",
       "<p>150 rows × 7 columns</p>\n",
       "</div>"
      ],
      "text/plain": [
       "     sepal_length_cm  sepal_width_cm  petal_length_cm  petal_width_cm  \\\n",
       "0                5.1             3.5              1.4             0.2   \n",
       "1                4.9             3.0              1.4             0.2   \n",
       "2                4.7             3.2              1.3             0.2   \n",
       "3                4.6             3.1              1.5             0.2   \n",
       "4                5.0             3.6              1.4             0.2   \n",
       "..               ...             ...              ...             ...   \n",
       "145              6.7             3.0              5.2             2.3   \n",
       "146              6.3             2.5              5.0             1.9   \n",
       "147              6.5             3.0              5.2             2.0   \n",
       "148              6.2             3.4              5.4             2.3   \n",
       "149              5.9             3.0              5.1             1.8   \n",
       "\n",
       "       species  sepal_length_cm_scaler  sepal_width_cm_scaler  \n",
       "0       setosa                0.222222               1.032057  \n",
       "1       setosa                0.166667              -0.124958  \n",
       "2       setosa                0.111111               0.337848  \n",
       "3       setosa                0.083333               0.106445  \n",
       "4       setosa                0.194444               1.263460  \n",
       "..         ...                     ...                    ...  \n",
       "145  virginica                0.666667              -0.124958  \n",
       "146  virginica                0.555556              -1.281972  \n",
       "147  virginica                0.611111              -0.124958  \n",
       "148  virginica                0.527778               0.800654  \n",
       "149  virginica                0.444444              -0.124958  \n",
       "\n",
       "[150 rows x 7 columns]"
      ]
     },
     "execution_count": 29,
     "metadata": {},
     "output_type": "execute_result"
    }
   ],
   "source": [
    "from sklearn.preprocessing import MinMaxScaler, StandardScaler\n",
    "\n",
    "\n",
    "df = pd.read_csv('https://raw.githubusercontent.com/akmand/datasets/master/iris.csv')\n",
    "\n",
    "min_max_scaler = MinMaxScaler()\n",
    "standart_scaler = StandardScaler()\n",
    "df['sepal_length_cm_scaler'] = min_max_scaler.fit_transform(df['sepal_length_cm'] \\\n",
    "                                                            .to_numpy().reshape(-1, 1))\n",
    "\n",
    "df['sepal_width_cm_scaler'] = standart_scaler.fit_transform(df['sepal_width_cm'] \\\n",
    "                                                           .to_numpy().reshape(-1, 1))\n",
    "\n",
    "df[['sepal_length_cm_scaler', 'sepal_width_cm_scaler']].head()\n",
    "df"
   ]
  }
 ],
 "metadata": {
  "kernelspec": {
   "display_name": "Python 3 (ipykernel)",
   "language": "python",
   "name": "python3"
  },
  "language_info": {
   "codemirror_mode": {
    "name": "ipython",
    "version": 3
   },
   "file_extension": ".py",
   "mimetype": "text/x-python",
   "name": "python",
   "nbconvert_exporter": "python",
   "pygments_lexer": "ipython3",
   "version": "3.9.13"
  }
 },
 "nbformat": 4,
 "nbformat_minor": 5
}
